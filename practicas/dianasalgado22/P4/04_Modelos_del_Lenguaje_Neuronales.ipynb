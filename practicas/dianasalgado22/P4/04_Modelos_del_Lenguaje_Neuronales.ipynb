{
  "cells": [
    {
      "cell_type": "markdown",
      "metadata": {
        "id": "sRSsHYYwVWsU"
      },
      "source": [
        "# Práctica 4: Modelos del Lenguaje Neuronales\n",
        "\n",
        "**Fecha de entrega: 6 de abril de 2025 11:59pm**"
      ]
    },
    {
      "cell_type": "code",
      "execution_count": null,
      "metadata": {},
      "outputs": [
        {
          "name": "stdout",
          "output_type": "stream",
          "text": [
            "[jupytext] Reading 04_Modelos_del_Lenguaje_Neuronales.ipynb in format ipynb\n",
            "[jupytext] Updating notebook metadata with '{\"jupytext\": {\"formats\": \"ipynb,py\"}}'\n",
            "[jupytext] Updating 04_Modelos_del_Lenguaje_Neuronales.ipynb\n",
            "[jupytext] Updating 04_Modelos_del_Lenguaje_Neuronales.py\n"
          ]
        }
      ],
      "source": [
        "#!jupytext --set-formats ipynb,py 04_Modelos_del_Lenguaje_Neuronales.ipynb"
      ]
    },
    {
      "cell_type": "markdown",
      "metadata": {
        "id": "L8961cBVVWsc"
      },
      "source": [
        "## Ejercicio 1."
      ]
    },
    {
      "cell_type": "markdown",
      "metadata": {
        "id": "7d0YQ51oVWsd"
      },
      "source": [
        "A partir del modelo entrenado:\n",
        "\n",
        "- Sacar los embeddings de las palabras del vocabulario\n",
        "\n",
        "- Visualizar en 2D los embeddings de algunas palabras (quizá las más frecuentes, excluyendo stopwords)\n",
        "\n",
        "- Seleccione algunas palabras y verifique sí realmente codifican nociones semánticas, e,g, similitud semántica con similitud coseno entre dos vectores, analogías por medios de operaciones de vectores"
      ]
    },
    {
      "cell_type": "code",
      "execution_count": 1,
      "metadata": {
        "id": "_DG7ZU1FVWse"
      },
      "outputs": [],
      "source": [
        "# Bibliotecas\n",
        "import nltk"
      ]
    },
    {
      "cell_type": "markdown",
      "metadata": {
        "id": "4xlFZEheVWsf"
      },
      "source": [
        "### Definición del modelo"
      ]
    },
    {
      "cell_type": "code",
      "execution_count": 2,
      "metadata": {
        "colab": {
          "base_uri": "https://localhost:8080/"
        },
        "id": "nMEl_-1vVWsg",
        "outputId": "b56d1a3b-d94a-4982-c70c-87d59851e1fa"
      },
      "outputs": [
        {
          "name": "stderr",
          "output_type": "stream",
          "text": [
            "[nltk_data] Downloading package reuters to /root/nltk_data...\n",
            "[nltk_data] Downloading package punkt_tab to /root/nltk_data...\n",
            "[nltk_data]   Unzipping tokenizers/punkt_tab.zip.\n"
          ]
        }
      ],
      "source": [
        "nltk.download('reuters')\n",
        "nltk.download('punkt_tab')\n",
        "\n",
        "from nltk.corpus import reuters\n",
        "from nltk import ngrams"
      ]
    },
    {
      "cell_type": "code",
      "execution_count": 3,
      "metadata": {
        "id": "rblv1TUBVWsh"
      },
      "outputs": [],
      "source": [
        "def preprocess_corpus(corpus: list[str]) -> list[str]:\n",
        "    \"\"\"Función de preprocesamiento\n",
        "\n",
        "    Esta función está diseñada para preprocesar\n",
        "    corpus para modelos del lenguaje neuronales.\n",
        "    Agrega tokens de inicio y fin, normaliza\n",
        "    palabras a minusculas\n",
        "    \"\"\"\n",
        "    preprocessed_corpus = []\n",
        "    for sent in corpus:\n",
        "        result = [word.lower() for word in sent]\n",
        "        # Al final de la oración\n",
        "        result.append(\"<EOS>\")\n",
        "        result.insert(0, \"<BOS>\")\n",
        "        preprocessed_corpus.append(result)\n",
        "    return preprocessed_corpus"
      ]
    },
    {
      "cell_type": "code",
      "execution_count": 4,
      "metadata": {
        "id": "3hyGoY4DVWsi"
      },
      "outputs": [],
      "source": [
        "def get_words_freqs(corpus: list[list[str]]):\n",
        "    \"\"\"Calcula la frecuencia de las palabras en un corpus\"\"\"\n",
        "    words_freqs = {}\n",
        "    for sentence in corpus:\n",
        "        for word in sentence:\n",
        "            words_freqs[word] = words_freqs.get(word, 0) + 1\n",
        "    return words_freqs"
      ]
    },
    {
      "cell_type": "code",
      "execution_count": 5,
      "metadata": {
        "id": "xOwIP6PjVWsi"
      },
      "outputs": [],
      "source": [
        "UNK_LABEL = \"<UNK>\"\n",
        "def get_words_indexes(words_freqs: dict) -> dict:\n",
        "    \"\"\"Calcula los indices de las palabras dadas sus frecuencias\"\"\"\n",
        "    result = {}\n",
        "    for idx, word in enumerate(words_freqs.keys()):\n",
        "        # Happax legomena happends\n",
        "        if words_freqs[word] == 1:\n",
        "            # Temp index for unknowns\n",
        "            result[UNK_LABEL] = len(words_freqs)\n",
        "        else:\n",
        "            result[word] = idx\n",
        "\n",
        "    return {word: idx for idx, word in enumerate(result.keys())}, {idx: word for idx, word in enumerate(result.keys())}"
      ]
    },
    {
      "cell_type": "code",
      "execution_count": 6,
      "metadata": {
        "id": "l4a71aixVWsj"
      },
      "outputs": [],
      "source": [
        "corpus = preprocess_corpus(reuters.sents())"
      ]
    },
    {
      "cell_type": "code",
      "execution_count": 7,
      "metadata": {
        "id": "WtHKR7xOVWsk"
      },
      "outputs": [],
      "source": [
        "words_freqs = get_words_freqs(corpus)"
      ]
    },
    {
      "cell_type": "code",
      "execution_count": 8,
      "metadata": {
        "colab": {
          "base_uri": "https://localhost:8080/"
        },
        "id": "2aZcbBzuVWsl",
        "outputId": "55afdf78-021b-45aa-ca57-04b6ea7a6313"
      },
      "outputs": [
        {
          "name": "stdout",
          "output_type": "stream",
          "text": [
            "inflict 1\n",
            "sheen 1\n",
            "avowed 1\n",
            "kilolitres 1\n",
            "janunary 1\n",
            "pineapples 1\n",
            "hasrul 1\n",
            "paian 1\n",
            "sawn 1\n",
            "goodall 1\n",
            "bundey 1\n"
          ]
        }
      ],
      "source": [
        "count = 0\n",
        "for word, freq in words_freqs.items():\n",
        "    if freq == 1 and count <= 10:\n",
        "        print(word, freq)\n",
        "        count += 1"
      ]
    },
    {
      "cell_type": "code",
      "execution_count": 9,
      "metadata": {
        "id": "cO3SQCRwVWsl"
      },
      "outputs": [],
      "source": [
        "words_indexes, index_to_word = get_words_indexes(words_freqs)"
      ]
    },
    {
      "cell_type": "code",
      "execution_count": 10,
      "metadata": {
        "colab": {
          "base_uri": "https://localhost:8080/"
        },
        "id": "a5xANWO9VWsl",
        "outputId": "0961e296-ce5f-44e9-b39a-0b475db1ac78"
      },
      "outputs": [
        {
          "data": {
            "text/plain": [
              "16"
            ]
          },
          "execution_count": 10,
          "metadata": {},
          "output_type": "execute_result"
        }
      ],
      "source": [
        "words_indexes[\"the\"]"
      ]
    },
    {
      "cell_type": "code",
      "execution_count": 11,
      "metadata": {
        "colab": {
          "base_uri": "https://localhost:8080/"
        },
        "id": "isGj9fJLh6Nj",
        "outputId": "657eb1e4-873f-4c33-ac53-9bc3198b2703"
      },
      "outputs": [
        {
          "data": {
            "text/plain": [
              "3222"
            ]
          },
          "execution_count": 11,
          "metadata": {},
          "output_type": "execute_result"
        }
      ],
      "source": [
        "words_indexes[\"women\"]"
      ]
    },
    {
      "cell_type": "code",
      "execution_count": 12,
      "metadata": {
        "colab": {
          "base_uri": "https://localhost:8080/",
          "height": 0
        },
        "id": "tC3ece-1VWsl",
        "outputId": "26e3930e-53bf-4f63-f62a-02d5995a45f2"
      },
      "outputs": [
        {
          "data": {
            "application/vnd.google.colaboratory.intrinsic+json": {
              "type": "string"
            },
            "text/plain": [
              "'the'"
            ]
          },
          "execution_count": 12,
          "metadata": {},
          "output_type": "execute_result"
        }
      ],
      "source": [
        "index_to_word[16]"
      ]
    },
    {
      "cell_type": "code",
      "execution_count": 13,
      "metadata": {
        "colab": {
          "base_uri": "https://localhost:8080/"
        },
        "id": "36hz2Un6VWsl",
        "outputId": "108f2613-3925-4575-d1ff-6527ab6b5707"
      },
      "outputs": [
        {
          "data": {
            "text/plain": [
              "20056"
            ]
          },
          "execution_count": 13,
          "metadata": {},
          "output_type": "execute_result"
        }
      ],
      "source": [
        "len(words_indexes)"
      ]
    },
    {
      "cell_type": "code",
      "execution_count": 14,
      "metadata": {
        "colab": {
          "base_uri": "https://localhost:8080/"
        },
        "id": "NRyBtkxKVWsm",
        "outputId": "0f95855a-1759-4b30-b711-f90d296efb5d"
      },
      "outputs": [
        {
          "data": {
            "text/plain": [
              "20056"
            ]
          },
          "execution_count": 14,
          "metadata": {},
          "output_type": "execute_result"
        }
      ],
      "source": [
        "len(index_to_word)"
      ]
    },
    {
      "cell_type": "code",
      "execution_count": 15,
      "metadata": {
        "id": "VVHNpZfjVWsm"
      },
      "outputs": [],
      "source": [
        "def get_word_id(words_indexes: dict, word: str) -> int:\n",
        "    \"\"\"Obtiene el id de una palabra dada\n",
        "\n",
        "    Si no se encuentra la palabra se regresa el id\n",
        "    del token UNK\n",
        "    \"\"\"\n",
        "    unk_word_id = words_indexes[UNK_LABEL]\n",
        "    return words_indexes.get(word, unk_word_id)"
      ]
    },
    {
      "cell_type": "markdown",
      "metadata": {
        "id": "JzMd3kXMVWsm"
      },
      "source": [
        "### Obtenemos trigramas"
      ]
    },
    {
      "cell_type": "markdown",
      "metadata": {
        "id": "EdFbnlEdVWsm"
      },
      "source": [
        "Convertiremos los trigramas obtenidos a secuencias de idx, y preparamos el conjunto de entrenamiento $x$ y $y$\n",
        "\n",
        "- x: Contexto\n",
        "- y: Predicción de la siguiente palabra"
      ]
    },
    {
      "cell_type": "code",
      "execution_count": 16,
      "metadata": {
        "id": "PWcRxrHmVWsn"
      },
      "outputs": [],
      "source": [
        "def get_train_test_data(corpus: list[list[str]], words_indexes: dict, n: int) -> tuple[list, list]:\n",
        "    \"\"\"Obtiene el conjunto de train y test\n",
        "\n",
        "    Requerido en el step de entrenamiento del modelo neuronal\n",
        "    \"\"\"\n",
        "    x_train = []\n",
        "    y_train = []\n",
        "    for sent in corpus:\n",
        "        n_grams = ngrams(sent, n)\n",
        "        for w1, w2, w3 in n_grams:\n",
        "            x_train.append([get_word_id(words_indexes, w1), get_word_id(words_indexes, w2)])\n",
        "            y_train.append([get_word_id(words_indexes, w3)])\n",
        "    return x_train, y_train"
      ]
    },
    {
      "cell_type": "markdown",
      "metadata": {
        "id": "S6J6oxtcVWsn"
      },
      "source": [
        "### Preparando Pytorch\n",
        "\n",
        "$x' = e(x_1) \\oplus e(x_2)$\n",
        "\n",
        "$h = \\tanh(W_1 x' + b)$\n",
        "\n",
        "$y = softmax(W_2 h)$"
      ]
    },
    {
      "cell_type": "code",
      "execution_count": 17,
      "metadata": {
        "id": "wkPwIdbgVWsn"
      },
      "outputs": [],
      "source": [
        "# cargamos bibliotecas\n",
        "import torch\n",
        "from torch import nn\n",
        "import torch.nn.functional as F\n",
        "import torch.optim as optim\n",
        "from torch.utils.data import DataLoader\n",
        "import time"
      ]
    },
    {
      "cell_type": "code",
      "execution_count": 18,
      "metadata": {
        "id": "yqBjE4tTVWsn"
      },
      "outputs": [],
      "source": [
        "# Setup de parametros\n",
        "EMBEDDING_DIM = 200\n",
        "CONTEXT_SIZE = 2\n",
        "BATCH_SIZE = 256\n",
        "H = 100\n",
        "torch.manual_seed(42)\n",
        "# Tamaño del Vocabulario\n",
        "V = len(words_indexes)"
      ]
    },
    {
      "cell_type": "code",
      "execution_count": 19,
      "metadata": {
        "id": "sbswGTW7VWso"
      },
      "outputs": [],
      "source": [
        "x_train, y_train = get_train_test_data(corpus, words_indexes, n=3)"
      ]
    },
    {
      "cell_type": "code",
      "execution_count": 20,
      "metadata": {
        "id": "RGId0f8dVWso"
      },
      "outputs": [],
      "source": [
        "import numpy as np\n",
        "\n",
        "train_set = np.concatenate((x_train, y_train), axis=1)\n",
        "# partimos los datos de entrada en batches\n",
        "train_loader = DataLoader(train_set, batch_size = BATCH_SIZE)"
      ]
    },
    {
      "cell_type": "markdown",
      "metadata": {
        "id": "EgrEeSf6VWso"
      },
      "source": [
        "### Creamos la arquitectura del modelo"
      ]
    },
    {
      "cell_type": "code",
      "execution_count": 21,
      "metadata": {
        "id": "fwkM19dKVWso"
      },
      "outputs": [],
      "source": [
        "# Trigram Neural Network Model\n",
        "class TrigramModel(nn.Module):\n",
        "    \"\"\"Clase padre: https://pytorch.org/docs/stable/generated/torch.nn.Module.html\"\"\"\n",
        "\n",
        "    def __init__(self, vocab_size, embedding_dim, context_size, h):\n",
        "        super(TrigramModel, self).__init__()\n",
        "        self.context_size = context_size\n",
        "        self.embedding_dim = embedding_dim\n",
        "        self.embeddings = nn.Embedding(vocab_size, embedding_dim)\n",
        "        self.linear1 = nn.Linear(context_size * embedding_dim, h)\n",
        "        self.linear2 = nn.Linear(h, vocab_size)\n",
        "\n",
        "    def forward(self, inputs):\n",
        "        # x': concatenation of x1 and x2 embeddings   -->\n",
        "        # self.embeddings regresa un vector por cada uno de los índices que se les pase como entrada.\n",
        "        # view() les cambia el tamaño para concatenarlos\n",
        "        embeds = self.embeddings(inputs).view((-1,self.context_size * self.embedding_dim))\n",
        "        # h: tanh(W_1.x' + b)  -->\n",
        "        out = torch.tanh(self.linear1(embeds))\n",
        "        # W_2.h                 -->\n",
        "        out = self.linear2(out)\n",
        "        # log_softmax(W_2.h)      -->\n",
        "        # dim=1 para que opere sobre renglones, pues al usar batchs tenemos varios vectores de salida\n",
        "        log_probs = F.log_softmax(out, dim=1)\n",
        "\n",
        "        return log_probs"
      ]
    },
    {
      "cell_type": "code",
      "execution_count": 22,
      "metadata": {
        "id": "egtPaaQdVWsp"
      },
      "outputs": [],
      "source": [
        "# Seleccionar la GPU si está disponible\n",
        "device = torch.accelerator.current_accelerator().type if torch.accelerator.is_available() else \"cpu\""
      ]
    },
    {
      "cell_type": "code",
      "execution_count": 23,
      "metadata": {
        "colab": {
          "base_uri": "https://localhost:8080/",
          "height": 0
        },
        "id": "83w2R4oEVWsp",
        "outputId": "96fea0d5-4bb9-47d2-82a5-f53945e78209"
      },
      "outputs": [
        {
          "data": {
            "application/vnd.google.colaboratory.intrinsic+json": {
              "type": "string"
            },
            "text/plain": [
              "'cuda'"
            ]
          },
          "execution_count": 23,
          "metadata": {},
          "output_type": "execute_result"
        }
      ],
      "source": [
        "device"
      ]
    },
    {
      "cell_type": "code",
      "execution_count": 24,
      "metadata": {
        "colab": {
          "base_uri": "https://localhost:8080/",
          "height": 0
        },
        "id": "CK3l99VbVWsp",
        "outputId": "8d394d27-0637-4661-d42e-a2bed8b6a576"
      },
      "outputs": [
        {
          "name": "stdout",
          "output_type": "stream",
          "text": [
            "Training on device cuda\n",
            "\n",
            "--- Training model Epoch: 0 ---\n",
            "Training Iteration 0 of epoch 0 complete. Loss: 9.939767837524414; Time taken (s): 0.6447601318359375\n",
            "Training Iteration 500 of epoch 0 complete. Loss: 5.791378498077393; Time taken (s): 1.9853990077972412\n",
            "Training Iteration 1000 of epoch 0 complete. Loss: 5.2173237800598145; Time taken (s): 1.9023663997650146\n",
            "Training Iteration 1500 of epoch 0 complete. Loss: 3.948838710784912; Time taken (s): 1.9679269790649414\n",
            "Training Iteration 2000 of epoch 0 complete. Loss: 5.0632758140563965; Time taken (s): 1.9369378089904785\n",
            "Training Iteration 2500 of epoch 0 complete. Loss: 4.599884033203125; Time taken (s): 1.9134876728057861\n",
            "Training Iteration 3000 of epoch 0 complete. Loss: 4.076411724090576; Time taken (s): 1.9114062786102295\n",
            "Training Iteration 3500 of epoch 0 complete. Loss: 4.5474114418029785; Time taken (s): 1.9086799621582031\n",
            "Training Iteration 4000 of epoch 0 complete. Loss: 5.639535903930664; Time taken (s): 1.9103901386260986\n",
            "Training Iteration 4500 of epoch 0 complete. Loss: 5.221599102020264; Time taken (s): 1.951636791229248\n",
            "Training Iteration 5000 of epoch 0 complete. Loss: 4.548547744750977; Time taken (s): 1.960763692855835\n",
            "Training Iteration 5500 of epoch 0 complete. Loss: 4.117260456085205; Time taken (s): 1.918602466583252\n",
            "Training Iteration 6000 of epoch 0 complete. Loss: 4.933012962341309; Time taken (s): 1.9194366931915283\n",
            "Training Iteration 6500 of epoch 0 complete. Loss: 5.018065452575684; Time taken (s): 1.9184248447418213\n",
            "\n",
            "--- Training model Epoch: 1 ---\n",
            "Training Iteration 0 of epoch 1 complete. Loss: 4.951425552368164; Time taken (s): 0.005470991134643555\n",
            "Training Iteration 500 of epoch 1 complete. Loss: 4.625279903411865; Time taken (s): 1.9185161590576172\n",
            "Training Iteration 1000 of epoch 1 complete. Loss: 4.612852573394775; Time taken (s): 1.9709887504577637\n",
            "Training Iteration 1500 of epoch 1 complete. Loss: 3.4578773975372314; Time taken (s): 1.9434478282928467\n",
            "Training Iteration 2000 of epoch 1 complete. Loss: 4.354246616363525; Time taken (s): 1.9241492748260498\n",
            "Training Iteration 2500 of epoch 1 complete. Loss: 4.169478893280029; Time taken (s): 1.9225406646728516\n",
            "Training Iteration 3000 of epoch 1 complete. Loss: 3.565138816833496; Time taken (s): 1.926426887512207\n",
            "Training Iteration 3500 of epoch 1 complete. Loss: 4.048708438873291; Time taken (s): 1.9257421493530273\n",
            "Training Iteration 4000 of epoch 1 complete. Loss: 5.054832935333252; Time taken (s): 1.9638493061065674\n",
            "Training Iteration 4500 of epoch 1 complete. Loss: 4.807430267333984; Time taken (s): 1.9721543788909912\n",
            "Training Iteration 5000 of epoch 1 complete. Loss: 4.2633748054504395; Time taken (s): 1.9426112174987793\n",
            "Training Iteration 5500 of epoch 1 complete. Loss: 3.8360342979431152; Time taken (s): 1.9348664283752441\n",
            "Training Iteration 6000 of epoch 1 complete. Loss: 4.329991817474365; Time taken (s): 1.9373812675476074\n",
            "Training Iteration 6500 of epoch 1 complete. Loss: 4.622077941894531; Time taken (s): 2.986668586730957\n",
            "\n",
            "--- Training model Epoch: 2 ---\n",
            "Training Iteration 0 of epoch 2 complete. Loss: 4.689112663269043; Time taken (s): 0.007302045822143555\n",
            "Training Iteration 500 of epoch 2 complete. Loss: 4.378785610198975; Time taken (s): 2.7659049034118652\n",
            "Training Iteration 1000 of epoch 2 complete. Loss: 4.420966625213623; Time taken (s): 2.961467981338501\n",
            "Training Iteration 1500 of epoch 2 complete. Loss: 3.344050407409668; Time taken (s): 2.9929327964782715\n",
            "Training Iteration 2000 of epoch 2 complete. Loss: 4.1085429191589355; Time taken (s): 2.5768258571624756\n",
            "Training Iteration 2500 of epoch 2 complete. Loss: 3.9580297470092773; Time taken (s): 2.4890332221984863\n",
            "Training Iteration 3000 of epoch 2 complete. Loss: 3.3622689247131348; Time taken (s): 2.3878283500671387\n",
            "Training Iteration 3500 of epoch 2 complete. Loss: 3.8580806255340576; Time taken (s): 2.174893856048584\n",
            "Training Iteration 4000 of epoch 2 complete. Loss: 4.745490074157715; Time taken (s): 2.074592351913452\n",
            "Training Iteration 4500 of epoch 2 complete. Loss: 4.551469802856445; Time taken (s): 2.227043867111206\n",
            "Training Iteration 5000 of epoch 2 complete. Loss: 4.104942321777344; Time taken (s): 2.0172853469848633\n",
            "Training Iteration 5500 of epoch 2 complete. Loss: 3.7204318046569824; Time taken (s): 1.9556505680084229\n",
            "Training Iteration 6000 of epoch 2 complete. Loss: 4.027750015258789; Time taken (s): 2.0046637058258057\n",
            "Training Iteration 6500 of epoch 2 complete. Loss: 4.416686534881592; Time taken (s): 1.9931230545043945\n"
          ]
        },
        {
          "data": {
            "application/vnd.google.colaboratory.intrinsic+json": {
              "type": "string"
            },
            "text/plain": [
              "'\\n    # saving model\\n    model_path = f\\'/content/drive/MyDrive/8vo Semestre/LM_neuronal/model_{device}_context_{CONTEXT_SIZE}_epoch_{epoch}.dat\\'\\n    torch.save(model.state_dict(), model_path)\\n    print(f\"Model saved for epoch={epoch} at {model_path}\")\\n'"
            ]
          },
          "execution_count": 24,
          "metadata": {},
          "output_type": "execute_result"
        }
      ],
      "source": [
        "#torch.device(\"cuda\" if torch.cuda.is_available() else \"cpu\")\n",
        "print(f\"Training on device {device}\")\n",
        "\n",
        "# 1. Pérdida. Negative log-likelihood loss\n",
        "loss_function = nn.NLLLoss()\n",
        "\n",
        "# 2. Instanciar el modelo y enviarlo a device\n",
        "model = TrigramModel(V, EMBEDDING_DIM, CONTEXT_SIZE, H).to(device)\n",
        "\n",
        "# 3. Optimización. ADAM optimizer\n",
        "optimizer = optim.Adam(model.parameters(), lr = 2e-3)\n",
        "\n",
        "# ------------------------- TRAIN & SAVE MODEL ------------------------\n",
        "EPOCHS = 3\n",
        "for epoch in range(EPOCHS):\n",
        "    st = time.time()\n",
        "    print(\"\\n--- Training model Epoch: {} ---\".format(epoch))\n",
        "    for it, data_tensor in enumerate(train_loader):\n",
        "        # Mover los datos a la GPU\n",
        "        context_tensor = data_tensor[:,0:2].to(device)\n",
        "        target_tensor = data_tensor[:,2].to(device)\n",
        "\n",
        "        model.zero_grad()\n",
        "\n",
        "        # FORWARD:\n",
        "        log_probs = model(context_tensor)\n",
        "\n",
        "        # compute loss function\n",
        "        loss = loss_function(log_probs, target_tensor)\n",
        "\n",
        "        # BACKWARD:\n",
        "        loss.backward()\n",
        "        optimizer.step()\n",
        "\n",
        "        if it % 500 == 0:\n",
        "            print(\"Training Iteration {} of epoch {} complete. Loss: {}; Time taken (s): {}\".format(it, epoch, loss.item(), (time.time()-st)))\n",
        "            st = time.time()\n",
        "'''\n",
        "    # saving model\n",
        "    model_path = f'/content/drive/MyDrive/8vo Semestre/LM_neuronal/model_{device}_context_{CONTEXT_SIZE}_epoch_{epoch}.dat'\n",
        "    torch.save(model.state_dict(), model_path)\n",
        "    print(f\"Model saved for epoch={epoch} at {model_path}\")\n",
        "'''\n"
      ]
    },
    {
      "cell_type": "code",
      "execution_count": 25,
      "metadata": {
        "colab": {
          "base_uri": "https://localhost:8080/"
        },
        "id": "FpYMpmryVWsp",
        "outputId": "7986ae90-ec5f-42ad-cfca-12863a111ad7"
      },
      "outputs": [
        {
          "data": {
            "text/plain": [
              "TrigramModel(\n",
              "  (embeddings): Embedding(20056, 200)\n",
              "  (linear1): Linear(in_features=400, out_features=100, bias=True)\n",
              "  (linear2): Linear(in_features=100, out_features=20056, bias=True)\n",
              ")"
            ]
          },
          "execution_count": 25,
          "metadata": {},
          "output_type": "execute_result"
        }
      ],
      "source": [
        "model"
      ]
    },
    {
      "cell_type": "code",
      "execution_count": 26,
      "metadata": {
        "id": "2Y8EY6r-VWsq"
      },
      "outputs": [],
      "source": [
        "#model = get_model(PATH)\n",
        "W1 = \"<BOS>\"\n",
        "W2 = \"my\"\n",
        "\n",
        "IDX1 = get_word_id(words_indexes, W1)\n",
        "IDX2 = get_word_id(words_indexes, W2)\n",
        "\n",
        "#Obtenemos Log probabidades p(W3|W2,W1)\n",
        "probs = model(torch.tensor([[IDX1,  IDX2]]).to(device)).detach().tolist()"
      ]
    },
    {
      "cell_type": "code",
      "execution_count": 27,
      "metadata": {
        "colab": {
          "base_uri": "https://localhost:8080/"
        },
        "id": "XNOszK6FVWsq",
        "outputId": "1f8b1873-2546-45ba-8f2a-e9da6a8b4e34"
      },
      "outputs": [
        {
          "data": {
            "text/plain": [
              "20056"
            ]
          },
          "execution_count": 27,
          "metadata": {},
          "output_type": "execute_result"
        }
      ],
      "source": [
        "len(probs[0])"
      ]
    },
    {
      "cell_type": "code",
      "execution_count": 28,
      "metadata": {
        "colab": {
          "base_uri": "https://localhost:8080/"
        },
        "id": "V8fKOWVSVWsw",
        "outputId": "e1173c73-fca8-4ecf-c1f8-74b03e635d04"
      },
      "outputs": [
        {
          "name": "stdout",
          "output_type": "stream",
          "text": [
            "3828 comments -2.316227674484253\n",
            "31 <UNK> -3.50248122215271\n",
            "1693 mineral -3.7191898822784424\n",
            "33 - -4.29129695892334\n",
            "499 department -4.303353309631348\n",
            "704 factors -4.357416152954102\n",
            "4649 remarks -4.3622636795043945\n",
            "601 figures -4.712786674499512\n",
            "13 trade -4.7250776290893555\n",
            "329 party -4.764235496520996\n",
            "7619 opposition -4.822461128234863\n"
          ]
        }
      ],
      "source": [
        "# Creamos diccionario con {idx: logprob}\n",
        "model_probs = {}\n",
        "for idx, p in enumerate(probs[0]):\n",
        "  model_probs[idx] = p\n",
        "\n",
        "# Sort:\n",
        "model_probs_sorted = sorted(((prob, idx) for idx, prob in model_probs.items()), reverse=True)\n",
        "\n",
        "# Printing word  and prob (retrieving the idx):\n",
        "topcandidates = 0\n",
        "for prob, idx in model_probs_sorted:\n",
        "  #Retrieve the word associated with that idx\n",
        "  word = index_to_word[idx]\n",
        "  print(idx, word, prob)\n",
        "\n",
        "  topcandidates += 1\n",
        "\n",
        "  if topcandidates > 10:\n",
        "    break"
      ]
    },
    {
      "cell_type": "code",
      "execution_count": 29,
      "metadata": {
        "colab": {
          "base_uri": "https://localhost:8080/"
        },
        "id": "8ahJrYnXVWsw",
        "outputId": "fa7a6c6a-f95e-4a23-b93e-1469ca14482a"
      },
      "outputs": [
        {
          "name": "stdout",
          "output_type": "stream",
          "text": [
            "comments\n"
          ]
        }
      ],
      "source": [
        "print(index_to_word.get(model_probs_sorted[0][1]))"
      ]
    },
    {
      "cell_type": "markdown",
      "metadata": {
        "id": "rxvNPupMVWsy"
      },
      "source": [
        "### Obtener embeddings"
      ]
    },
    {
      "cell_type": "code",
      "execution_count": 30,
      "metadata": {
        "id": "-MbF4JKubJty"
      },
      "outputs": [],
      "source": [
        "# Crear un diccionario vacío para almacenar la palabra y su embedding\n",
        "word_embeddings_dict = {}\n",
        "\n",
        "# Recorrer todos los índices en el vocabulario\n",
        "for idx in range(len(index_to_word)):\n",
        "    # Obtener la palabra correspondiente\n",
        "    word = index_to_word[idx]\n",
        "     # Mover el índice al dispositivo del modelo\n",
        "    idx_tensor = torch.tensor([idx]).to(device)\n",
        "\n",
        "    # Obtener el embedding para el índice\n",
        "    embedding = model.embeddings(idx_tensor)\n",
        "\n",
        "    # Guardar el embedding en el diccionario\n",
        "    word_embeddings_dict[word] = embedding.detach().cpu().numpy().flatten()"
      ]
    },
    {
      "cell_type": "code",
      "execution_count": 31,
      "metadata": {
        "colab": {
          "base_uri": "https://localhost:8080/"
        },
        "id": "X93rFAGbcXdX",
        "outputId": "81e6a265-6ca1-481e-f728-4566082468b0"
      },
      "outputs": [
        {
          "name": "stdout",
          "output_type": "stream",
          "text": [
            "Palabra: <BOS>, Embedding: [ 1.3310868   1.0503322   0.3806889  -0.7017489   0.33800644]...\n",
            "Palabra: asian, Embedding: [ 0.40599373  2.3415043   0.11491164 -0.7337221   0.12681407]...\n",
            "Palabra: exporters, Embedding: [-0.03889011 -1.3277844  -1.0625364  -0.209962    0.65222967]...\n",
            "Palabra: fear, Embedding: [-0.21218717 -0.610628    0.24623851  0.19731754  0.8677256 ]...\n",
            "Palabra: damage, Embedding: [ 1.1303267  -0.23650964 -0.848652   -1.1540574  -0.40738744]...\n",
            "Palabra: from, Embedding: [-1.0418541   0.22175756  1.6756617  -0.89908445  0.802703  ]...\n",
            "Palabra: u, Embedding: [ 1.4181491   1.2757943  -0.11784929  1.3496126   2.4513087 ]...\n",
            "Palabra: ., Embedding: [1.3349092  0.2488798  1.3896002  0.10617302 0.9409367 ]...\n",
            "Palabra: s, Embedding: [-0.24452898  0.61459106 -0.26183018  0.35622385  0.56517416]...\n",
            "Palabra: .-, Embedding: [-0.02281542  2.400699   -0.6876496   1.0287244   0.35062945]...\n",
            "Palabra: japan, Embedding: [-0.46001664 -0.26714918 -1.4995236  -0.55437464  0.72023124]...\n",
            "Palabra: rift, Embedding: [-1.4030917   0.8304846   0.8193494   0.20266561  1.6170822 ]...\n",
            "Palabra: mounting, Embedding: [-0.46643347 -0.773173    0.2128265  -1.2347344   1.0531564 ]...\n",
            "Palabra: trade, Embedding: [ 0.94479626  1.1362492  -1.5451323  -0.53094053  1.6184152 ]...\n",
            "Palabra: friction, Embedding: [ 1.2142015  -2.352966   -2.252115    0.06744494  0.78051317]...\n",
            "Palabra: between, Embedding: [-1.6545274   0.00300416 -0.39568838 -0.00914176  0.28926763]...\n",
            "Palabra: the, Embedding: [-0.10139211 -0.00896686  0.92240053  1.4181439  -0.10128243]...\n",
            "Palabra: and, Embedding: [ 0.6472383   0.9010937  -0.64102596  0.4068873  -0.7879189 ]...\n",
            "Palabra: has, Embedding: [-2.287341   -0.80464417  0.0394195  -0.40834293 -0.6857523 ]...\n",
            "Palabra: raised, Embedding: [-1.2776155   0.6935333  -0.17252257  1.1289729  -2.1119812 ]...\n"
          ]
        }
      ],
      "source": [
        "# Imprimir el diccionario resultante\n",
        "from itertools import islice\n",
        "for word, embedding in islice(word_embeddings_dict.items(),20):\n",
        "    print(f\"Palabra: {word}, Embedding: {embedding[:5]}...\")  # Mostrar solo los primeros 5 valores del embedding"
      ]
    },
    {
      "cell_type": "markdown",
      "metadata": {
        "id": "QM6_lFMsiZjg"
      },
      "source": [
        "### Visualizar embeddings"
      ]
    },
    {
      "cell_type": "code",
      "execution_count": 32,
      "metadata": {
        "id": "uU-6QKzIcfAN"
      },
      "outputs": [],
      "source": [
        "from nltk.corpus import stopwords\n",
        "from sklearn.manifold import TSNE\n",
        "import matplotlib.pyplot as plt"
      ]
    },
    {
      "cell_type": "code",
      "execution_count": 33,
      "metadata": {
        "colab": {
          "base_uri": "https://localhost:8080/"
        },
        "id": "8TRNAdfkcdb-",
        "outputId": "56ca0093-4bdf-4224-940d-f5181b1b92a5"
      },
      "outputs": [
        {
          "name": "stderr",
          "output_type": "stream",
          "text": [
            "[nltk_data] Downloading package stopwords to /root/nltk_data...\n",
            "[nltk_data]   Unzipping corpora/stopwords.zip.\n"
          ]
        }
      ],
      "source": [
        "# Descargar las stopwords de nltk si no las tienes\n",
        "nltk.download('stopwords')\n",
        "\n",
        "# Obtener las stopwords en inglés de nltk\n",
        "stopwords_en = set(stopwords.words('english'))\n",
        "\n",
        "# Ordenar las palabras por frecuencia (de mayor a menor)\n",
        "sorted_words = sorted(words_freqs.items(), key=lambda item: item[1], reverse=True)\n",
        "\n",
        "# Seleccionar las 50 palabras más comunes, excluyendo las stopwords y con longitud > 3\n",
        "top_50_words = [\n",
        "                word for word, _ in sorted_words[:200]  # Seleccionar las primeras 200 para asegurarnos de que haya suficientes palabras con longitud > 3\n",
        "                if word not in stopwords_en and len(word) > 3\n",
        "               ][:50]  # Limitar a las primeras 50\n",
        "\n",
        "# Filtrar los embeddings de las 50 palabras más comunes\n",
        "filtered_words = {word: word_embeddings_dict[word] for word in top_50_words}\n",
        "\n",
        "# Obtener los embeddings y las palabras\n",
        "words = list(filtered_words.keys())\n",
        "embeddings = np.array(list(filtered_words.values()))"
      ]
    },
    {
      "cell_type": "code",
      "execution_count": 34,
      "metadata": {
        "colab": {
          "base_uri": "https://localhost:8080/"
        },
        "id": "mM7yWHzLfwa6",
        "outputId": "b1818a63-ffcf-4627-d71c-53c8b5b8cd54"
      },
      "outputs": [
        {
          "data": {
            "text/plain": [
              "50"
            ]
          },
          "execution_count": 34,
          "metadata": {},
          "output_type": "execute_result"
        }
      ],
      "source": [
        "len(words)"
      ]
    },
    {
      "cell_type": "code",
      "execution_count": 35,
      "metadata": {
        "id": "uFPml5f0csZG"
      },
      "outputs": [],
      "source": [
        "from sklearn.decomposition import PCA\n",
        "\n",
        "# Usar PCA para reducir la dimensionalidad a 2D\n",
        "pca = PCA(n_components=2)\n",
        "embeddings_2d = pca.fit_transform(embeddings)\n"
      ]
    },
    {
      "cell_type": "code",
      "execution_count": 36,
      "metadata": {
        "colab": {
          "base_uri": "https://localhost:8080/",
          "height": 714
        },
        "id": "xVCJvZ87dT1R",
        "outputId": "e4154dfb-ccb6-4685-f51c-e2f14ac7503d"
      },
      "outputs": [
        {
          "data": {
            "image/png": "[encoded data removed]",
            "text/plain": [
              "<Figure size 1000x800 with 1 Axes>"
            ]
          },
          "metadata": {},
          "output_type": "display_data"
        }
      ],
      "source": [
        "# Visualizar los resultados\n",
        "plt.figure(figsize=(10, 8))\n",
        "\n",
        "plt.scatter(embeddings_2d[:, 0], embeddings_2d[:, 1], color='darkorchid', s=50)  # `s` para el tamaño de los puntos\n",
        "\n",
        "# Añadir etiquetas por encima de los puntos\n",
        "for i, word in enumerate(words):\n",
        "    plt.annotate(word, (embeddings_2d[i, 0], embeddings_2d[i, 1] + 0.1),  # `+ 0.1` coloca la etiqueta por encima del punto\n",
        "                 fontsize=9, ha='center', color='black')  # `ha='center'` centra la etiqueta\n",
        "\n",
        "plt.title('Visualización 2D de los Embeddings de Palabras Más Comunes en el vocabulario\\n(Sin Stopwords y Longitud > 3)\\n')\n",
        "\n",
        "plt.xlabel('Componente 1')\n",
        "plt.ylabel('Componente 2')\n",
        "plt.grid(True)\n",
        "plt.show()"
      ]
    },
    {
      "cell_type": "markdown",
      "metadata": {
        "id": "YDUuQ4IWgQlY"
      },
      "source": [
        "### Análisis nociones semánticas"
      ]
    },
    {
      "cell_type": "code",
      "execution_count": 38,
      "metadata": {
        "id": "bT6RFetSgi1W"
      },
      "outputs": [],
      "source": [
        "from sklearn.metrics.pairwise import cosine_similarity\n",
        "def similitud_coseno(word1, word2):\n",
        "    \"\"\"Calcula la similitud coseno entre dos vectores\"\"\"\n",
        "\n",
        "    # Obtener sus embeddings\n",
        "    embedding1 = word_embeddings_dict[word1]\n",
        "    embedding2 = word_embeddings_dict[word2]\n",
        "\n",
        "    # Calcular la similitud coseno\n",
        "    cosine_sim = cosine_similarity([embedding1], [embedding2])\n",
        "    print(f\"Similitud coseno entre {word1} y {word2}: {cosine_sim[0][0]}\")"
      ]
    },
    {
      "cell_type": "code",
      "execution_count": 39,
      "metadata": {
        "colab": {
          "base_uri": "https://localhost:8080/"
        },
        "id": "MQu2avIagX_v",
        "outputId": "421a868f-880b-4818-89ea-66952f39c7ce"
      },
      "outputs": [
        {
          "name": "stdout",
          "output_type": "stream",
          "text": [
            "Similitud coseno entre february y january: 0.23327726125717163\n",
            "Similitud coseno entre price y market: 0.09531818330287933\n",
            "Similitud coseno entre march y april: 0.3759090304374695\n",
            "Similitud coseno entre money y dollar: -0.08380722254514694\n"
          ]
        }
      ],
      "source": [
        "similitud_coseno(\"february\",\"january\")\n",
        "similitud_coseno(\"price\",\"market\")\n",
        "similitud_coseno(\"march\",\"april\")\n",
        "similitud_coseno(\"money\",\"dollar\")\n"
      ]
    },
    {
      "cell_type": "code",
      "execution_count": 42,
      "metadata": {
        "colab": {
          "base_uri": "https://localhost:8080/"
        },
        "id": "Ejpp3vJ9ghX4",
        "outputId": "70f26ca4-71fe-4670-aaf0-82dc946e65dc"
      },
      "outputs": [
        {
          "name": "stdout",
          "output_type": "stream",
          "text": [
            "Palabras más cercanas a 'rich - money + poor':\n",
            "rich: 0.3999361991882324\n",
            "poor: 0.458340048789978\n",
            "brian: 0.7339683771133423\n",
            "di: 0.7362001538276672\n",
            "trapped: 0.7513508200645447\n",
            "chatsworth: 0.75420743227005\n",
            "duluth: 0.7622594833374023\n",
            "asbestec: 0.7640729546546936\n",
            "wessanen: 0.7644728422164917\n",
            "extraodinary: 0.7664402723312378\n",
            "\n",
            "Palabras más cercanas a 'capital - city + country':\n",
            "capital: 0.38265442848205566\n",
            "country: 0.47400039434432983\n",
            "governors: 0.7261853218078613\n",
            "koninklijke: 0.7441940307617188\n",
            "personnel: 0.7509213089942932\n",
            "staying: 0.7524275779724121\n",
            "funeral: 0.7556468844413757\n",
            "mcandrews: 0.7614834308624268\n",
            "webber: 0.7622212171554565\n",
            "mikulic: 0.7622326612472534\n"
          ]
        }
      ],
      "source": [
        "from scipy.spatial.distance import cosine\n",
        "\n",
        "word1 = 'rich'\n",
        "word2 = 'money'\n",
        "word3 = 'poor'\n",
        "word4 = 'capital'\n",
        "word5 = 'city'\n",
        "word6 = 'country'\n",
        "\n",
        "# Obtener los embeddings\n",
        "embedding_rich = word_embeddings_dict[word1]\n",
        "embedding_money = word_embeddings_dict[word2]\n",
        "embedding_poor = word_embeddings_dict[word3]\n",
        "embedding_capital = word_embeddings_dict[word4]\n",
        "embedding_city = word_embeddings_dict[word5]\n",
        "embedding_country = word_embeddings_dict[word6]\n",
        "\n",
        "# Realizar las operaciones de analogía\n",
        "analogy1_result = embedding_rich - embedding_money + embedding_poor\n",
        "analogy2_result = embedding_capital - embedding_city + embedding_country\n",
        "\n",
        "# Buscar las palabras más cercanas a los resultados de las analogías\n",
        "def find_most_similar(analogy_result):\n",
        "    similarities = {}\n",
        "    for word, embedding in word_embeddings_dict.items():\n",
        "        similarity = cosine(analogy_result, embedding)\n",
        "        similarities[word] = similarity\n",
        "    sorted_similarities = sorted(similarities.items(), key=lambda item: item[1])\n",
        "    return sorted_similarities[:10]  # Retornar las 10 palabras más cercanas\n",
        "\n",
        "# Ver los resultados de las analogías\n",
        "print(\"Palabras más cercanas a 'rich - money + poor':\")\n",
        "for word, similarity in find_most_similar(analogy1_result):\n",
        "    print(f\"{word}: {similarity}\")\n",
        "\n",
        "print(\"\\nPalabras más cercanas a 'capital - city + country':\")\n",
        "for word, similarity in find_most_similar(analogy2_result):\n",
        "    print(f\"{word}: {similarity}\")"
      ]
    },
    {
      "cell_type": "markdown",
      "metadata": {
        "id": "wjV2YNHlQhDp"
      },
      "source": [
        "### Conclusiones\n",
        "\n",
        "El modelo muestra una buena capacidad para capturar relaciones semánticas claras, como las que existen entre palabras como \"february\" y \"january\", \"price\" y \"market\", o \"money\" y \"dollar\". Sin embargo, presenta dificultades al resolver analogías más complejas, como \"rich - money + poor\" o \"capital - city + country\". Esto sugiere que el modelo aún no maneja bien las analogías semánticas. En la visualización 2D, las palabras relacionadas con el tiempo y la economía están bien agrupadas, pero algunas palabras están más alejadas, lo que indica que el modelo podría mejorar en la representación de ciertas relaciones semánticas."
      ]
    },
    {
      "cell_type": "markdown",
      "metadata": {
        "id": "kuRuUOhPVWsy"
      },
      "source": [
        "## Referencias\n",
        "\n",
        "- [Language models - Lena Voita](https://lena-voita.github.io/nlp_course/language_modeling.html#generation_strategies)\n",
        "- [A Neural Probabilistic Model - Bengio](https://www.jmlr.org/papers/volume3/bengio03a/bengio03a.pdf)\n",
        "- Parte del código de esta práctica fue retomado del trabajo de la Dr. Ximena Guitierrez Vasques"
      ]
    }
  ],
  "metadata": {
    "accelerator": "GPU",
    "colab": {
      "collapsed_sections": [
        "JzMd3kXMVWsm",
        "S6J6oxtcVWsn"
      ],
      "gpuType": "T4",
      "provenance": []
    },
    "kernelspec": {
      "display_name": "Python 3",
      "name": "python3"
    },
    "language_info": {
      "codemirror_mode": {
        "name": "ipython",
        "version": 3
      },
      "file_extension": ".py",
      "mimetype": "text/x-python",
      "name": "python",
      "nbconvert_exporter": "python",
      "pygments_lexer": "ipython3",
      "version": "3.10.11"
    }
  },
  "nbformat": 4,
  "nbformat_minor": 0
}
