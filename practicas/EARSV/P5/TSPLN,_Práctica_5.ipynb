{
  "cells": [
    {
      "cell_type": "code",
      "execution_count": null,
      "metadata": {
        "colab": {
          "base_uri": "https://localhost:8080/"
        },
        "id": "vnhSU3vXR-2f",
        "outputId": "dd68466e-2dfb-44e1-b210-c314561da8c6"
      },
      "outputs": [
        {
          "name": "stdout",
          "output_type": "stream",
          "text": [
            "Requirement already satisfied: numpy==1.26.4 in c:\\users\\efrah\\documents\\entornos\\tspln\\.venv\\lib\\site-packages (1.26.4)\n",
            "Requirement already satisfied: gensim in c:\\users\\efrah\\documents\\entornos\\tspln\\.venv\\lib\\site-packages (4.3.3)\n",
            "Requirement already satisfied: numpy<2.0,>=1.18.5 in c:\\users\\efrah\\documents\\entornos\\tspln\\.venv\\lib\\site-packages (from gensim) (1.26.4)\n",
            "Requirement already satisfied: scipy<1.14.0,>=1.7.0 in c:\\users\\efrah\\documents\\entornos\\tspln\\.venv\\lib\\site-packages (from gensim) (1.13.1)\n",
            "Requirement already satisfied: smart-open>=1.8.1 in c:\\users\\efrah\\documents\\entornos\\tspln\\.venv\\lib\\site-packages (from gensim) (7.1.0)\n",
            "Requirement already satisfied: wrapt in c:\\users\\efrah\\documents\\entornos\\tspln\\.venv\\lib\\site-packages (from smart-open>=1.8.1->gensim) (1.17.2)\n",
            "Requirement already satisfied: utils in c:\\users\\efrah\\documents\\entornos\\tspln\\.venv\\lib\\site-packages (1.0.2)\n"
          ]
        }
      ],
      "source": [
        "# HIT: Restart session\n",
        "!pip install numpy==1.26.4\n",
        "!pip install -U gensim\n",
        "!pip install utils"
      ]
    },
    {
      "cell_type": "code",
      "execution_count": null,
      "metadata": {
        "id": "3QVuJ7mvOP1u"
      },
      "outputs": [],
      "source": [
        "from rich import print as rprint\n",
        "import requests\n",
        "import gensim.downloader as gensim_api\n",
        "from gensim.models.keyedvectors import KeyedVectors\n",
        "import torch\n",
        "import torch.nn as nn\n",
        "from torch.utils.data import TensorDataset, DataLoader\n",
        "from tqdm.auto import tqdm, trange\n",
        "import matplotlib.pyplot as plt\n",
        "import random\n",
        "from sklearn.cluster import KMeans\n",
        "from sklearn.decomposition import PCA\n",
        "import numpy as np\n",
        "\n"
      ]
    },
    {
      "cell_type": "code",
      "execution_count": null,
      "metadata": {
        "id": "aqm8gbIAZkti"
      },
      "outputs": [],
      "source": [
        "device = torch.device(\"cuda\" if torch.cuda.is_available() else \"cpu\")"
      ]
    },
    {
      "cell_type": "code",
      "execution_count": null,
      "metadata": {
        "id": "Zg0j8anFZ7RB"
      },
      "outputs": [],
      "source": [
        "def plot_history(history: dict) -> None:\n",
        "    fig, axes = plt.subplots(1, 2, figsize=(15, 5))\n",
        "    axes[0].plot(history[\"accuracy\"], label=\"Accuracy\")\n",
        "    axes[0].plot(history[\"val_accuracy\"], label=\"Validation accuracy\")\n",
        "    axes[0].set_title(\"Accuracy\")\n",
        "    axes[0].set_xlabel(\"Epochs\")\n",
        "    axes[0].set_ylabel(\"Accuracy\")\n",
        "    axes[0].legend()\n",
        "\n",
        "    axes[1].plot(history[\"loss\"], label=\"Loss\")\n",
        "    axes[1].plot(history[\"val_loss\"], label=\"Validation loss\")\n",
        "    axes[1].set_title(\"Loss\")\n",
        "    axes[1].set_xlabel(\"Epochs\")\n",
        "    axes[1].set_ylabel(\"Loss\")\n",
        "    axes[1].legend()\n",
        "\n",
        "    plt.show()"
      ]
    },
    {
      "cell_type": "code",
      "execution_count": null,
      "metadata": {
        "id": "Hqqo7fO5jhdt"
      },
      "outputs": [],
      "source": [
        "def get_raw_corpus(lang: str) -> str:\n",
        "    \"\"\"Obtiene el corpus crudo de Universal Dependencies\n",
        "\n",
        "    Parameters\n",
        "    ----------\n",
        "    lang: str\n",
        "        Idioma del corpus. Puede ser \"es\" o \"en\"\n",
        "\n",
        "    Return\n",
        "    ------\n",
        "    str\n",
        "        Corpus crudo en formato CoNLL\n",
        "    \"\"\"\n",
        "    file_variants = [\"train\", \"test\", \"dev\"]\n",
        "    result = dict.fromkeys(file_variants)\n",
        "    DATASETS = {\"es\": [\"UD_Spanish-AnCora\", \"es_ancora-ud\"], \"en\": [\"UD_English-GUM\", \"en_gum-ud\"]}\n",
        "    repo, file_name = DATASETS[lang]\n",
        "    for variant in file_variants:\n",
        "        url = f\"https://raw.githubusercontent.com/UniversalDependencies/{repo}/refs/heads/master/{file_name}-{variant}.conllu\"\n",
        "        r = requests.get(url)\n",
        "        result[variant] = r.text\n",
        "    return result"
      ]
    },
    {
      "cell_type": "code",
      "execution_count": null,
      "metadata": {
        "id": "tnIs_OGqjhdt"
      },
      "outputs": [],
      "source": [
        "raw_corpus = get_raw_corpus(\"en\")\n",
        "raw_spanish_corpus = get_raw_corpus(\"es\")"
      ]
    },
    {
      "cell_type": "code",
      "execution_count": null,
      "metadata": {
        "id": "7cd99fdc-ab5e-4ed3-8801-7e2a5b24f70f"
      },
      "outputs": [],
      "source": [
        "class Token(dict):\n",
        "    \"\"\"Modela cada renglon de un corpus en formato CoNLL\n",
        "    \"\"\"\n",
        "    pass"
      ]
    },
    {
      "cell_type": "code",
      "execution_count": null,
      "metadata": {
        "colab": {
          "base_uri": "https://localhost:8080/",
          "height": 129
        },
        "id": "a17a12f8-9876-4706-9e5a-251abae919d4",
        "outputId": "2c4db153-9379-412e-9a89-a663928e74c9"
      },
      "outputs": [
        {
          "data": {
            "text/html": [
              "<pre style=\"white-space:pre;overflow-x:auto;line-height:normal;font-family:Menlo,'DejaVu Sans Mono',consolas,'Courier New',monospace\"><span style=\"font-weight: bold\">{</span>\n",
              "    <span style=\"color: #008000; text-decoration-color: #008000\">'ID'</span>: <span style=\"color: #008000; text-decoration-color: #008000\">'1'</span>,\n",
              "    <span style=\"color: #008000; text-decoration-color: #008000\">'FORM'</span>: <span style=\"color: #008000; text-decoration-color: #008000\">'Las'</span>,\n",
              "    <span style=\"color: #008000; text-decoration-color: #008000\">'LEMMA'</span>: <span style=\"color: #008000; text-decoration-color: #008000\">'el'</span>,\n",
              "    <span style=\"color: #008000; text-decoration-color: #008000\">'UPOS'</span>: <span style=\"color: #008000; text-decoration-color: #008000\">'DET'</span>,\n",
              "    <span style=\"color: #008000; text-decoration-color: #008000\">'FEATS'</span>: <span style=\"color: #008000; text-decoration-color: #008000\">'Definite=Def|Gender=Fem|Number=Plur|PronType=Art'</span>\n",
              "<span style=\"font-weight: bold\">}</span>\n",
              "</pre>\n"
            ],
            "text/plain": [
              "\u001b[1m{\u001b[0m\n",
              "    \u001b[32m'ID'\u001b[0m: \u001b[32m'1'\u001b[0m,\n",
              "    \u001b[32m'FORM'\u001b[0m: \u001b[32m'Las'\u001b[0m,\n",
              "    \u001b[32m'LEMMA'\u001b[0m: \u001b[32m'el'\u001b[0m,\n",
              "    \u001b[32m'UPOS'\u001b[0m: \u001b[32m'DET'\u001b[0m,\n",
              "    \u001b[32m'FEATS'\u001b[0m: \u001b[32m'\u001b[0m\u001b[32mDefinite\u001b[0m\u001b[32m=\u001b[0m\u001b[32mDef\u001b[0m\u001b[32m|\u001b[0m\u001b[32mGender\u001b[0m\u001b[32m=\u001b[0m\u001b[32mFem\u001b[0m\u001b[32m|\u001b[0m\u001b[32mNumber\u001b[0m\u001b[32m=\u001b[0m\u001b[32mPlur\u001b[0m\u001b[32m|\u001b[0m\u001b[32mPronType\u001b[0m\u001b[32m=\u001b[0m\u001b[32mArt\u001b[0m\u001b[32m'\u001b[0m\n",
              "\u001b[1m}\u001b[0m\n"
            ]
          },
          "metadata": {},
          "output_type": "display_data"
        }
      ],
      "source": [
        "t = Token(\n",
        "    {\n",
        "        \"ID\": \"1\",\n",
        "        \"FORM\": \"Las\",\n",
        "        \"LEMMA\": \"el\",\n",
        "        \"UPOS\": \"DET\",\n",
        "        \"FEATS\": \"Definite=Def|Gender=Fem|Number=Plur|PronType=Art\",\n",
        "    }\n",
        ")\n",
        "rprint(t)"
      ]
    },
    {
      "cell_type": "code",
      "execution_count": null,
      "metadata": {
        "id": "4b229575-ccf1-4864-8665-bd1eb08059bf"
      },
      "outputs": [],
      "source": [
        "import re\n",
        "\n",
        "class CoNLLDictorizer:\n",
        "    \"\"\"Convierte un corpus en formato CoNLL a una lista de diccionarios\n",
        "\n",
        "    Define los métodos fit, transform y fit_transform para que\n",
        "    sea compatible con la api de scikit-learn.\n",
        "\n",
        "    Parameters\n",
        "    ----------\n",
        "    column_names: list\n",
        "        Nombre de las columnas del corpus.\n",
        "        Default: [\"ID\", \"FORM\", \"LEMMA\", \"UPOS\", \"XPOS\", \"FEATS\", \"HEAD\", \"DEPREL\", \"DEPS\", \"MISC\"]\n",
        "    sent_sep: str\n",
        "        Separador de oraciones. Default: \"\\n\\n\"\n",
        "    col_sep: str\n",
        "        Separador de columnas. Default: \"\\t+\"\n",
        "    \"\"\"\n",
        "    DEFAULT_COLS = [\n",
        "        \"ID\",\n",
        "        \"FORM\",\n",
        "        \"LEMMA\",\n",
        "        \"UPOS\",\n",
        "        \"XPOS\",\n",
        "        \"FEATS\",\n",
        "        \"HEAD\",\n",
        "        \"DEPREL\",\n",
        "        \"HEAD\",\n",
        "        \"DEPS\",\n",
        "        \"MISC\",\n",
        "    ]\n",
        "\n",
        "    def __init__(self, column_names: list=DEFAULT_COLS, sent_sep=\"\\n\\n\", col_sep=\"\\t+\"):\n",
        "        self.column_names = column_names\n",
        "        self.sent_sep = sent_sep\n",
        "        self.col_sep = col_sep\n",
        "\n",
        "    def fit(self):\n",
        "        pass\n",
        "\n",
        "    def transform(self, corpus: str) -> list[Token]:\n",
        "        \"\"\"Convierte un corpus en formato CoNLL a una lista de diccionarios.\n",
        "\n",
        "        Parameters\n",
        "        ----------\n",
        "        corpus: str\n",
        "            Corpus en formato CoNLL\n",
        "\n",
        "        Return\n",
        "        ------\n",
        "        list\n",
        "            Lista de diccionarios con los tokens del corpus\n",
        "        \"\"\"\n",
        "        corpus = corpus.strip()\n",
        "        sentences = re.split(self.sent_sep, corpus)\n",
        "        return list(map(self._split_in_words, sentences))\n",
        "\n",
        "    def fit_transform(self, corpus):\n",
        "        return self.transform(corpus)\n",
        "\n",
        "    def _split_in_words(self, sentence: list[str]) -> list[Token]:\n",
        "        \"\"\"Preprocesa una oración en formato CoNLL\n",
        "\n",
        "        Ignora las lineas que comienzan con \"#\" y separa\n",
        "        cada línea en un diccionario.\n",
        "\n",
        "        Parameters\n",
        "        ----------\n",
        "        sentence: str\n",
        "            Oracion en formato CoNLL\n",
        "\n",
        "        Return\n",
        "        ------\n",
        "        list\n",
        "            Lista de diccionarios con los tokens de la oración\n",
        "        \"\"\"\n",
        "        rows = re.split(\"\\n\", sentence)\n",
        "        rows = [row for row in rows if row[0] != \"#\"]\n",
        "        return [\n",
        "            Token(dict(zip(self.column_names, re.split(self.col_sep, row))))\n",
        "            for row in rows\n",
        "        ]"
      ]
    },
    {
      "cell_type": "code",
      "execution_count": null,
      "metadata": {
        "id": "vhwMpSSnjhdv"
      },
      "outputs": [],
      "source": [
        "conll_dict = CoNLLDictorizer()"
      ]
    },
    {
      "cell_type": "code",
      "execution_count": null,
      "metadata": {
        "id": "5GCVLekBjhdv"
      },
      "outputs": [],
      "source": [
        "corpora = {}\n",
        "for variant in [\"train\", \"test\", \"dev\"]:\n",
        "    corpora[variant] = conll_dict.transform(raw_corpus[variant])"
      ]
    },
    {
      "cell_type": "code",
      "execution_count": null,
      "metadata": {
        "id": "7nHFk_DPlipR"
      },
      "outputs": [],
      "source": [
        "spanish_corpora = {}\n",
        "for variant in [\"train\", \"test\", \"dev\"]:\n",
        "    spanish_corpora[variant] = conll_dict.transform(raw_spanish_corpus[variant])"
      ]
    },
    {
      "cell_type": "code",
      "execution_count": null,
      "metadata": {
        "id": "dwZx2nMpjhdx"
      },
      "outputs": [],
      "source": [
        "def extract_pairs(sentence: list[Token], word_key=\"FORM\", pos_key=\"UPOS\"):\n",
        "    \"\"\" Extrae las palabras y sus etiquetas POS\n",
        "\n",
        "    Parameters\n",
        "    ----------\n",
        "    sentence: list[Token]\n",
        "        Oracion en formato CoNLL\n",
        "    word_key: str\n",
        "        Nombre de la columna que contiene la palabra. Default: \"FORM\"\n",
        "    pos_key: str\n",
        "        Nombre de la columna que contiene la etiqueta POS. Default: \"UPOS\"\n",
        "\n",
        "    Return\n",
        "    ------\n",
        "    tuple\n",
        "        Tupla con las palabras y sus etiquetas POS\n",
        "    \"\"\"\n",
        "    _input, target = [], []\n",
        "    for token in sentence:\n",
        "        _input += [token[word_key]]\n",
        "        target += [token.get(pos_key, None)]\n",
        "    return _input, target"
      ]
    },
    {
      "cell_type": "code",
      "execution_count": null,
      "metadata": {
        "id": "emWIq9NEjhdy"
      },
      "outputs": [],
      "source": [
        "train_pairs = [extract_pairs(sentence) for sentence in corpora[\"train\"]]\n",
        "val_pairs = [extract_pairs(sentence) for sentence in corpora[\"dev\"]]\n",
        "test_pairs = [extract_pairs(sentence) for sentence in corpora[\"test\"]]"
      ]
    },
    {
      "cell_type": "code",
      "execution_count": null,
      "metadata": {
        "id": "z3Cp8V_-JYQo"
      },
      "outputs": [],
      "source": [
        "train_sent_words, train_sent_pos = zip(*train_pairs)\n",
        "val_sent_words, val_sent_pos = zip(*val_pairs)\n",
        "test_sent_words, test_sent_pos = zip(*test_pairs)"
      ]
    },
    {
      "cell_type": "code",
      "execution_count": null,
      "metadata": {
        "id": "o5z_eeomCLuR"
      },
      "outputs": [],
      "source": [
        "vectors = gensim_api.load(\"glove-wiki-gigaword-100\")"
      ]
    },
    {
      "cell_type": "code",
      "execution_count": null,
      "metadata": {
        "id": "gLP3tbUI92vc"
      },
      "outputs": [],
      "source": [
        "def get_embeddings(model: KeyedVectors) -> dict[str, torch.FloatTensor]:\n",
        "    \"\"\"Obtiene los embeddings de las palabras del modelo\n",
        "\n",
        "    Parameters\n",
        "    ----------\n",
        "    model: KeyedVectors\n",
        "        Modelo de embeddings\n",
        "\n",
        "    Return\n",
        "    ------\n",
        "    dict[str, torh.FloatTensor]\n",
        "        Diccionario con las palabras como keys y los embeddings como values\n",
        "    \"\"\"\n",
        "    embeddings = {}\n",
        "    for word, idx in model.key_to_index.items():\n",
        "        embeddings[word] = torch.FloatTensor(vectors[idx].copy())\n",
        "    return embeddings"
      ]
    },
    {
      "cell_type": "code",
      "execution_count": null,
      "metadata": {
        "id": "M7QPOH2OAD2i"
      },
      "outputs": [],
      "source": [
        "embeddings = get_embeddings(vectors)"
      ]
    },
    {
      "cell_type": "code",
      "execution_count": null,
      "metadata": {
        "colab": {
          "base_uri": "https://localhost:8080/",
          "height": 49
        },
        "id": "IkxcHLvnjhdy",
        "outputId": "b0740e09-cfeb-4df4-dd3c-e99893df56d8"
      },
      "outputs": [
        {
          "data": {
            "text/html": [
              "<pre style=\"white-space:pre;overflow-x:auto;line-height:normal;font-family:Menlo,'DejaVu Sans Mono',consolas,'Courier New',monospace\"><span style=\"font-weight: bold\">[</span><span style=\"color: #008000; text-decoration-color: #008000\">'Aesthetic'</span>, <span style=\"color: #008000; text-decoration-color: #008000\">'Appreciation'</span>, <span style=\"color: #008000; text-decoration-color: #008000\">'and'</span>, <span style=\"color: #008000; text-decoration-color: #008000\">'Spanish'</span>, <span style=\"color: #008000; text-decoration-color: #008000\">'Art'</span>, <span style=\"color: #008000; text-decoration-color: #008000\">':'</span><span style=\"font-weight: bold\">]</span>\n",
              "</pre>\n"
            ],
            "text/plain": [
              "\u001b[1m[\u001b[0m\u001b[32m'Aesthetic'\u001b[0m, \u001b[32m'Appreciation'\u001b[0m, \u001b[32m'and'\u001b[0m, \u001b[32m'Spanish'\u001b[0m, \u001b[32m'Art'\u001b[0m, \u001b[32m':'\u001b[0m\u001b[1m]\u001b[0m\n"
            ]
          },
          "metadata": {},
          "output_type": "display_data"
        },
        {
          "data": {
            "text/html": [
              "<pre style=\"white-space:pre;overflow-x:auto;line-height:normal;font-family:Menlo,'DejaVu Sans Mono',consolas,'Courier New',monospace\"><span style=\"font-weight: bold\">[</span><span style=\"color: #008000; text-decoration-color: #008000\">'ADJ'</span>, <span style=\"color: #008000; text-decoration-color: #008000\">'NOUN'</span>, <span style=\"color: #008000; text-decoration-color: #008000\">'CCONJ'</span>, <span style=\"color: #008000; text-decoration-color: #008000\">'ADJ'</span>, <span style=\"color: #008000; text-decoration-color: #008000\">'NOUN'</span>, <span style=\"color: #008000; text-decoration-color: #008000\">'PUNCT'</span><span style=\"font-weight: bold\">]</span>\n",
              "</pre>\n"
            ],
            "text/plain": [
              "\u001b[1m[\u001b[0m\u001b[32m'ADJ'\u001b[0m, \u001b[32m'NOUN'\u001b[0m, \u001b[32m'CCONJ'\u001b[0m, \u001b[32m'ADJ'\u001b[0m, \u001b[32m'NOUN'\u001b[0m, \u001b[32m'PUNCT'\u001b[0m\u001b[1m]\u001b[0m\n"
            ]
          },
          "metadata": {},
          "output_type": "display_data"
        }
      ],
      "source": [
        "# Extracting the training set\n",
        "rprint(train_sent_words[0])\n",
        "rprint(train_sent_pos[0])"
      ]
    },
    {
      "cell_type": "code",
      "execution_count": null,
      "metadata": {
        "id": "UhkijHNuQzV4"
      },
      "outputs": [],
      "source": [
        "# Todas las palabras a minusculas para que sea compatible con GLoVe\n",
        "train_sent_words_rnn = [list(map(str.lower, sentence)) for sentence in train_sent_words]\n",
        "val_sent_words_rnn = [list(map(str.lower, sentence)) for sentence in val_sent_words]\n",
        "test_sent_words_rnn = [list(map(str.lower, sentence)) for sentence in test_sent_words]"
      ]
    },
    {
      "cell_type": "markdown",
      "metadata": {
        "id": "4eSMbD9_RZhQ"
      },
      "source": [
        "#### Indices"
      ]
    },
    {
      "cell_type": "code",
      "execution_count": null,
      "metadata": {
        "id": "7nOhn8uoRMtL"
      },
      "outputs": [],
      "source": [
        "corpus_words_rnn = sorted(set([word for sentence in train_sent_words_rnn for word in sentence]))\n",
        "pos_list_rnn = sorted(set([pos for sentence in train_sent_pos for pos in sentence]))"
      ]
    },
    {
      "cell_type": "code",
      "execution_count": null,
      "metadata": {
        "id": "Rxpqvo71ZMTU"
      },
      "outputs": [],
      "source": [
        "embeddings_words_rnn = embeddings.keys()\n",
        "vocabulary = set(corpus_words_rnn + list(embeddings_words_rnn))"
      ]
    },
    {
      "cell_type": "code",
      "execution_count": null,
      "metadata": {
        "id": "4dgCYaU2ZiNC"
      },
      "outputs": [],
      "source": [
        "# Start on 2 because id 0 will be pad simbol and 1 will be UNK\n",
        "idx2word = dict(enumerate(vocabulary), start=2)\n",
        "idx2pos = dict(enumerate(pos_list_rnn), start=1)\n",
        "\n",
        "word2idx = {v: k for k, v in idx2word.items()}\n",
        "pos2idx = {v: k for k, v in idx2pos.items()}"
      ]
    },
    {
      "cell_type": "code",
      "execution_count": null,
      "metadata": {
        "id": "0ngx9qOSZuc2"
      },
      "outputs": [],
      "source": [
        "def to_index(corpus: list[list[str]], word2idx: dict[str, int], unk_id: int = 1) -> torch.LongTensor:\n",
        "    indexes = []\n",
        "    for sent in corpus:\n",
        "        sent_indexes = torch.LongTensor(\n",
        "            list(map(lambda word: word2idx.get(word, unk_id), sent))\n",
        "        )\n",
        "        indexes += [sent_indexes]\n",
        "    return indexes\n"
      ]
    },
    {
      "cell_type": "code",
      "execution_count": null,
      "metadata": {
        "id": "ePsRdzhzEe4h"
      },
      "outputs": [],
      "source": [
        "t = to_index(train_sent_words_rnn[:2], word2idx)"
      ]
    },
    {
      "cell_type": "code",
      "execution_count": null,
      "metadata": {
        "colab": {
          "base_uri": "https://localhost:8080/"
        },
        "id": "nMfdyc3LEvRa",
        "outputId": "3e20ab5e-a491-44e7-f56e-8b1792bc602e"
      },
      "outputs": [
        {
          "name": "stdout",
          "output_type": "stream",
          "text": [
            "aesthetic\n",
            "appreciation\n",
            "and\n",
            "spanish\n",
            "art\n",
            ":\n",
            "insights\n",
            "from\n",
            "eye\n",
            "-\n",
            "tracking\n"
          ]
        }
      ],
      "source": [
        "for sent in t:\n",
        "    for word in sent:\n",
        "        print(idx2word[int(word)])"
      ]
    },
    {
      "cell_type": "code",
      "execution_count": null,
      "metadata": {
        "id": "ksMcJ55Db7yd"
      },
      "outputs": [],
      "source": [
        "X_train_idx_rnn = to_index(train_sent_words_rnn, word2idx)\n",
        "Y_train_idx_rnn = to_index(train_sent_pos, pos2idx)"
      ]
    },
    {
      "cell_type": "code",
      "execution_count": null,
      "metadata": {
        "id": "sOQ6-_v-cBpY"
      },
      "outputs": [],
      "source": [
        "X_val_idx_rnn = to_index(val_sent_words_rnn, word2idx)\n",
        "Y_val_idx_rnn = to_index(val_sent_pos, pos2idx)"
      ]
    },
    {
      "cell_type": "code",
      "execution_count": null,
      "metadata": {
        "id": "w47zfLelcFic"
      },
      "outputs": [],
      "source": [
        "X_test_idx_rnn = to_index(test_sent_words_rnn, word2idx)\n",
        "Y_test_idx_rnn = to_index(test_sent_pos, pos2idx)"
      ]
    },
    {
      "cell_type": "markdown",
      "metadata": {
        "id": "oHBRD4tFcKZ7"
      },
      "source": [
        "#### Padding"
      ]
    },
    {
      "cell_type": "code",
      "execution_count": null,
      "metadata": {
        "id": "Pf76H03gcJhi"
      },
      "outputs": [],
      "source": [
        "from torch.nn.utils.rnn import pad_sequence"
      ]
    },
    {
      "cell_type": "code",
      "execution_count": null,
      "metadata": {
        "colab": {
          "base_uri": "https://localhost:8080/"
        },
        "id": "IKk967y7cRPa",
        "outputId": "25b2dbe8-097a-4e9b-e19e-40592e668634"
      },
      "outputs": [
        {
          "data": {
            "text/plain": [
              "tensor([[336200, 400758, 321782, 160421, 281310, 242400, 218827, 120054, 309923,\n",
              "          78699, 287778,  54047,  13845, 160186,  55409, 234316, 213294,  99536,\n",
              "         139057, 215739, 155797,      0,      0,      0,      0,      0,      0,\n",
              "              0,      0,      0,      0,      0,      0],\n",
              "        [ 99137, 309923,  78699,  91653, 238561, 372925, 147611, 277948, 198676,\n",
              "         321782, 348706, 156122, 321782, 160186, 287358, 392177, 397002, 309923,\n",
              "         127259, 238751, 155035, 273830, 369644,  77698, 321782,  22261, 321782,\n",
              "         234316, 122005,    750,  52967, 142536, 155797]])"
            ]
          },
          "execution_count": 31,
          "metadata": {},
          "output_type": "execute_result"
        }
      ],
      "source": [
        "pad_sequence(X_train_idx_rnn[41:43], batch_first=True, padding_value=0)"
      ]
    },
    {
      "cell_type": "code",
      "execution_count": null,
      "metadata": {
        "id": "VL4_WKvjcbGU"
      },
      "outputs": [],
      "source": [
        "X_train_rnn = pad_sequence(X_train_idx_rnn, batch_first=True, padding_value=0)\n",
        "Y_train_rnn = pad_sequence(Y_train_idx_rnn, batch_first=True, padding_value=0)"
      ]
    },
    {
      "cell_type": "code",
      "execution_count": null,
      "metadata": {
        "id": "fKvJtqIDcfEd"
      },
      "outputs": [],
      "source": [
        "X_val_rnn = pad_sequence(X_val_idx_rnn, batch_first=True, padding_value=0)\n",
        "Y_val_rnn = pad_sequence(Y_val_idx_rnn, batch_first=True, padding_value=0)"
      ]
    },
    {
      "cell_type": "code",
      "execution_count": null,
      "metadata": {
        "id": "SajONuR1ciCm"
      },
      "outputs": [],
      "source": [
        "X_test_rnn = pad_sequence(X_test_idx_rnn, batch_first=True, padding_value=0)\n",
        "Y_test_rnn = pad_sequence(Y_test_idx_rnn, batch_first=True, padding_value=0)"
      ]
    },
    {
      "cell_type": "markdown",
      "metadata": {
        "id": "JpwxIQ2eoLv0"
      },
      "source": [
        "#### Embeddings para RNN"
      ]
    },
    {
      "cell_type": "code",
      "execution_count": null,
      "metadata": {
        "id": "3ft6IkMpnl6E"
      },
      "outputs": [],
      "source": [
        "EMBEDDING_DIM = 100"
      ]
    },
    {
      "cell_type": "code",
      "execution_count": null,
      "metadata": {
        "id": "K62mLWakoQQM"
      },
      "outputs": [],
      "source": [
        "embedding_table = torch.randn((len(vocabulary) + 2, EMBEDDING_DIM)) / 10"
      ]
    },
    {
      "cell_type": "code",
      "execution_count": null,
      "metadata": {
        "id": "dn0yhp_QoU0g"
      },
      "outputs": [],
      "source": [
        "for word in vocabulary:\n",
        "    if word in embeddings:\n",
        "        embedding_table[word2idx[word]] = embeddings[word]"
      ]
    },
    {
      "cell_type": "markdown",
      "metadata": {
        "id": "khe4KjaHorKy"
      },
      "source": [
        "### La Recurrent Neural Net con pytorch"
      ]
    },
    {
      "cell_type": "code",
      "execution_count": null,
      "metadata": {
        "id": "R7PgLJ3mpi_Y"
      },
      "outputs": [],
      "source": [
        "class RnnModel(nn.Module):\n",
        "    def __init__(self,\n",
        "                 embedding_table,\n",
        "                 hidden_size,\n",
        "                 num_classes: int,\n",
        "                 freeze_embeddings: bool = False,\n",
        "                 num_layers: int=1,\n",
        "                 bidirectional=False):\n",
        "        super().__init__()\n",
        "        embedding_dim = embedding_table.size(dim=-1)\n",
        "        self.embedding = nn.Embedding.from_pretrained(\n",
        "            embedding_table,\n",
        "            freeze=freeze_embeddings,\n",
        "            padding_idx=0\n",
        "            )\n",
        "        self.recurrent = nn.RNN(\n",
        "            embedding_dim,\n",
        "            hidden_size,\n",
        "            num_layers=num_layers,\n",
        "            bidirectional=bidirectional,\n",
        "            batch_first=True\n",
        "        )\n",
        "        if bidirectional:\n",
        "            # Dos veces las unidades si es bidireccional\n",
        "            self.linear = nn.Linear(hidden_size * 2, num_classes)\n",
        "        else:\n",
        "            self.linear = nn.Linear(hidden_size, num_classes)\n",
        "\n",
        "    def forward(self, sentence):\n",
        "        embeds = self.embedding(sentence)\n",
        "        rec_out, _ = self.recurrent(embeds)\n",
        "        logist = self.linear(rec_out)\n",
        "        return logist"
      ]
    },
    {
      "cell_type": "code",
      "execution_count": null,
      "metadata": {
        "id": "WwD09a2zprGb"
      },
      "outputs": [],
      "source": [
        "rnn_model = RnnModel(\n",
        "    embedding_table,\n",
        "    hidden_size=128,\n",
        "    num_classes=len(pos2idx) + 1,\n",
        "    freeze_embeddings=False,\n",
        "    num_layers=2,\n",
        "    bidirectional=True\n",
        ").to(device)"
      ]
    },
    {
      "cell_type": "code",
      "execution_count": null,
      "metadata": {
        "id": "nf2nlbRkp_ZE"
      },
      "outputs": [],
      "source": [
        "loss_fn = nn.CrossEntropyLoss(ignore_index=0)\n",
        "optimizer = torch.optim.NAdam(rnn_model.parameters(), lr=0.005)"
      ]
    },
    {
      "cell_type": "markdown",
      "metadata": {
        "id": "hrpSsOVYrTZ-"
      },
      "source": [
        "#### Training loop"
      ]
    },
    {
      "cell_type": "code",
      "execution_count": null,
      "metadata": {
        "id": "_S2havEVvLrT"
      },
      "outputs": [],
      "source": [
        "EPOCHS = 10"
      ]
    },
    {
      "cell_type": "code",
      "execution_count": null,
      "metadata": {
        "id": "O3vAmAD6rSCi"
      },
      "outputs": [],
      "source": [
        "train_dataset_rnn = TensorDataset(X_train_rnn, Y_train_rnn)\n",
        "train_dataloader_rnn = DataLoader(train_dataset_rnn, batch_size=512, shuffle=True)"
      ]
    },
    {
      "cell_type": "code",
      "execution_count": null,
      "metadata": {
        "id": "CstSXGx8H6kB"
      },
      "outputs": [],
      "source": [
        "val_dataset_rnn = TensorDataset(X_val_rnn, Y_val_rnn)\n",
        "val_dataloader_rnn = DataLoader(val_dataset_rnn, batch_size=2048, shuffle=False)"
      ]
    },
    {
      "cell_type": "code",
      "execution_count": null,
      "metadata": {
        "id": "HlVSlEtWIAeJ"
      },
      "outputs": [],
      "source": [
        "test_dataset_rnn = TensorDataset(X_test_rnn, Y_test_rnn)\n",
        "test_dataloader_rnn = DataLoader(test_dataset_rnn, batch_size=2048, shuffle=False)"
      ]
    },
    {
      "cell_type": "code",
      "execution_count": null,
      "metadata": {
        "id": "AthKvSRPr5a8"
      },
      "outputs": [],
      "source": [
        "def evaluate_rnn(model: nn.Module, loss_fn: nn.Module, dataloader: DataLoader):\n",
        "    model.eval()\n",
        "    with torch.no_grad():\n",
        "        total_loss = 0\n",
        "        accuracy = 0\n",
        "        t_words = 0\n",
        "        for X_batch, y_batch in dataloader:\n",
        "            X_batch, y_batch = X_batch.to(device), y_batch.to(device)\n",
        "            y_batch_pred = model(X_batch)\n",
        "            current_loss = loss_fn(\n",
        "                y_batch_pred.reshape(-1, y_batch_pred.size(dim=-1)),\n",
        "                y_batch.reshape(-1)\n",
        "            )\n",
        "            n_words = torch.sum(y_batch > 0).item()\n",
        "            t_words += n_words\n",
        "            total_loss += n_words + current_loss.item()\n",
        "            accuracy += torch.mul(\n",
        "                torch.argmax(y_batch_pred, dim=-1) == y_batch,\n",
        "                y_batch > 0).sum().item()\n",
        "        return total_loss / t_words, accuracy / t_words"
      ]
    },
    {
      "cell_type": "code",
      "execution_count": null,
      "metadata": {
        "id": "_1t9-j1VufzN"
      },
      "outputs": [],
      "source": [
        "MODELS_PATH = \"./models\""
      ]
    },
    {
      "cell_type": "code",
      "execution_count": null,
      "metadata": {
        "colab": {
          "base_uri": "https://localhost:8080/",
          "height": 241,
          "referenced_widgets": [
            "069568e7eea44f0793dda49f77341c61",
            "1763aa85df7148cf9c49e1369c5a5578",
            "330c21cac2f04f58b2fb85aec112ea98",
            "93088645d4804832a567177ed735c7bb",
            "ffafb150deed400f8eff1d5e40f48927",
            "7603b37d0c4c40a4a74280fdc6de1e9d",
            "3201ca5c2fa14e33840186f9c856790d",
            "f98f8e29493b40d7af23e38e8ee3b80e",
            "06cb5202bd7148659ae413191a43ae4f",
            "034256ed5d11424aba5a3f4f1dcb1a98",
            "4eaff0d06550454597fa580dd671b367",
            "d68bff57d7ff42268a0eb177f651f0ec",
            "b763168383914d1ca133ca69506469fb",
            "5ee32d7795f24b8ba012e008d0bea416",
            "7b012e6fc9574960b9c1d9418a00b70b",
            "4d20f29a7e2148bab81ca3b788824cce",
            "a8f4972e2d4f46baae22d1256c7b1b1c",
            "8d24d7075bc04016b3d9c8401adf308e",
            "aaaaf450d47c45569b55c3a8cbd51c92",
            "4b0f8ea742114a239d89152845b3c470",
            "08bb0de19f1d47dab3fe4a98b018e091",
            "c15aa6f5b012414f85daa9674fcd1b0b",
            "b17a2a0f1619460a88f855fff054ff32",
            "6564122bc232400c890844784e7d0b52",
            "e59466ce36c54520876d01fa78ec2e95",
            "ed5bb31fb9064cf28898edb6b2a6a9df",
            "e51cfa3bc59f45149de1e4be2c3f1e02",
            "c827824bd0b64d80ba0bb2018d1b3615",
            "12902e591f7a4a9887df70fa1b5f16c0",
            "038c2205e58243489c9df565394024c9",
            "40e955d21ae54f3d91812ca372f2e104",
            "057921cb7dc148c28e18ea0c895dd607",
            "016d2038707a491abd58ea9ebcf7257b",
            "58b5ad0493c9496da46c85148d86c1cf",
            "63bc6d3889374394aaf87a3df51bc710",
            "e59ce981d6fe4f568845467e77841951",
            "0e890afb8aac4779a4e17961427ce59b",
            "aca1c69932324a3eb539509cf0e0ed2d",
            "a363960023ca468995ae242416b02ab7",
            "3c9516275dd243a1ab33b5d70b137a26",
            "6a89a206f6aa40abb713259c0e1ea6a5",
            "e99b8498c0fa4aada16e8c4b2a284dd0",
            "e855c8d6af29416c8fea613302aa14ca",
            "6d970c0432044c8eb29ca268909e5785",
            "e342264b4d834c4fb34c27068763d49a",
            "ae27d424f62343a6802bd7b9c44a61b3",
            "192a5780dee64c38823b6fc72956ad43",
            "402b47a3af9f49c4bf87789c9c155d40",
            "eeb8c4e6e15740358670c2d951aaa649",
            "ce676ba408c14bcb802fa5a9f1bb963c",
            "0067894ca94942e79030e162570b2e6e",
            "014557fe73bb4fd695da232536ce32c8",
            "b4b8918b4cc548c5b7b54e25ccdaa076",
            "eddc9e5f45ce43ad89baffaf578a0645",
            "e5566aed91bc4f6fb968f81232ca7230",
            "c2b26272101b45a197faf6e7bbf990ad",
            "ac97a1dfba9d451693ae6a84d6e319e9",
            "4dba54ece16148b287a09b8abc05a8df",
            "7ea308a5f99e47e0a0448a91756f21be",
            "fd6cf9fdda4e4d49b846315a9baef37c",
            "140d5ff2f4f444d0ac3d5597e317249d",
            "e5e83fdad7124a6cacf87aeb545e576a",
            "28fd972e72764c75a7cedd193d56d0c4",
            "9e267f4aa1b6497c90471a4dc179a2d0",
            "e23721d2d4db4cc5af66c30939efe867",
            "76da5253cc1946cf9328249952e27c18",
            "7bfabce2c7ab4981a4b1b0a7e25ef465",
            "a2d797e189e9496c951cac9954c3aacb",
            "0771acc626e4482eab9a48ca436854c3",
            "88473467f2284d1babbf880aad95a4ab",
            "c58aa76679044d06935e03ed66e49aa4",
            "49628377516c4cf7a6f427dbd5143bb5",
            "c1606b20aa684ce89c6c4b7a45ba7543",
            "b31b2833110549c39d481e5507dca935",
            "aa24af39cc7a4016b945f40d4bc58599",
            "eadc1dbc54564698b4003aa13dc07c0b",
            "7529c18cd2e140eebde1fd5a22baff2b",
            "175d31c2c184461b9b8e9847fbb4d5f4",
            "d20dfb71e5a34ef794162b72440e1d1e",
            "74918b8b1d0345ea98df9949af5e1699",
            "99fcb2bc6d444249a71ce5d9e426ddf6",
            "3be118a46faf46ebb74b90792084f948",
            "422496c8e51241748d6086100db86df1",
            "668355147b344a9996e32b0173ab03fd",
            "a150dd2e2a2d47d9b37a9349da6ad6dc",
            "5c329c014dda4050b22f0054133f0219",
            "351322ae35574fb7b9aed47a2bc78042",
            "83e59953adc448e896d0f2e66c440023"
          ]
        },
        "id": "uqRT2kl7tLS1",
        "outputId": "57e37a84-ab6b-4ceb-cf18-ca542b011c7b"
      },
      "outputs": [
        {
          "data": {
            "application/vnd.jupyter.widget-view+json": {
              "model_id": "175d31c2c184461b9b8e9847fbb4d5f4",
              "version_major": 2,
              "version_minor": 0
            },
            "text/plain": [
              "  0%|          | 0/10 [00:00<?, ?it/s]"
            ]
          },
          "metadata": {},
          "output_type": "display_data"
        },
        {
          "data": {
            "application/vnd.jupyter.widget-view+json": {
              "model_id": "d20dfb71e5a34ef794162b72440e1d1e",
              "version_major": 2,
              "version_minor": 0
            },
            "text/plain": [
              "  0%|          | 0/19 [00:00<?, ?it/s]"
            ]
          },
          "metadata": {},
          "output_type": "display_data"
        },
        {
          "data": {
            "application/vnd.jupyter.widget-view+json": {
              "model_id": "74918b8b1d0345ea98df9949af5e1699",
              "version_major": 2,
              "version_minor": 0
            },
            "text/plain": [
              "  0%|          | 0/19 [00:00<?, ?it/s]"
            ]
          },
          "metadata": {},
          "output_type": "display_data"
        },
        {
          "data": {
            "application/vnd.jupyter.widget-view+json": {
              "model_id": "99fcb2bc6d444249a71ce5d9e426ddf6",
              "version_major": 2,
              "version_minor": 0
            },
            "text/plain": [
              "  0%|          | 0/19 [00:00<?, ?it/s]"
            ]
          },
          "metadata": {},
          "output_type": "display_data"
        },
        {
          "data": {
            "application/vnd.jupyter.widget-view+json": {
              "model_id": "3be118a46faf46ebb74b90792084f948",
              "version_major": 2,
              "version_minor": 0
            },
            "text/plain": [
              "  0%|          | 0/19 [00:00<?, ?it/s]"
            ]
          },
          "metadata": {},
          "output_type": "display_data"
        },
        {
          "data": {
            "application/vnd.jupyter.widget-view+json": {
              "model_id": "422496c8e51241748d6086100db86df1",
              "version_major": 2,
              "version_minor": 0
            },
            "text/plain": [
              "  0%|          | 0/19 [00:00<?, ?it/s]"
            ]
          },
          "metadata": {},
          "output_type": "display_data"
        },
        {
          "data": {
            "application/vnd.jupyter.widget-view+json": {
              "model_id": "668355147b344a9996e32b0173ab03fd",
              "version_major": 2,
              "version_minor": 0
            },
            "text/plain": [
              "  0%|          | 0/19 [00:00<?, ?it/s]"
            ]
          },
          "metadata": {},
          "output_type": "display_data"
        },
        {
          "data": {
            "application/vnd.jupyter.widget-view+json": {
              "model_id": "a150dd2e2a2d47d9b37a9349da6ad6dc",
              "version_major": 2,
              "version_minor": 0
            },
            "text/plain": [
              "  0%|          | 0/19 [00:00<?, ?it/s]"
            ]
          },
          "metadata": {},
          "output_type": "display_data"
        },
        {
          "data": {
            "application/vnd.jupyter.widget-view+json": {
              "model_id": "5c329c014dda4050b22f0054133f0219",
              "version_major": 2,
              "version_minor": 0
            },
            "text/plain": [
              "  0%|          | 0/19 [00:00<?, ?it/s]"
            ]
          },
          "metadata": {},
          "output_type": "display_data"
        },
        {
          "data": {
            "application/vnd.jupyter.widget-view+json": {
              "model_id": "351322ae35574fb7b9aed47a2bc78042",
              "version_major": 2,
              "version_minor": 0
            },
            "text/plain": [
              "  0%|          | 0/19 [00:00<?, ?it/s]"
            ]
          },
          "metadata": {},
          "output_type": "display_data"
        },
        {
          "data": {
            "application/vnd.jupyter.widget-view+json": {
              "model_id": "83e59953adc448e896d0f2e66c440023",
              "version_major": 2,
              "version_minor": 0
            },
            "text/plain": [
              "  0%|          | 0/19 [00:00<?, ?it/s]"
            ]
          },
          "metadata": {},
          "output_type": "display_data"
        }
      ],
      "source": [
        "rnn_history = {\"accuracy\": [], \"loss\": [], \"val_loss\": [], \"val_accuracy\": []}\n",
        "for epoch in trange(EPOCHS):\n",
        "    train_loss, train_acc, t_words = 0, 0, 0\n",
        "    rnn_model.train()\n",
        "    for X_batch, y_batch in tqdm(train_dataloader_rnn):\n",
        "        X_batch, y_batch = X_batch.to(device), y_batch.to(device)\n",
        "        y_batch_pred = rnn_model(X_batch)\n",
        "        loss = loss_fn(\n",
        "            y_batch_pred.reshape(-1, y_batch_pred.size(dim=-1)),\n",
        "            y_batch.reshape(-1)\n",
        "            )\n",
        "        optimizer.zero_grad()\n",
        "        loss.backward()\n",
        "        optimizer.step()\n",
        "        with torch.no_grad():\n",
        "            n_words = torch.sum(y_batch > 0).item()\n",
        "            t_words += n_words\n",
        "            train_loss += n_words * loss.item()\n",
        "            train_acc += torch.mul(\n",
        "                torch.argmax(y_batch_pred, dim=-1) == y_batch,\n",
        "                y_batch > 0).sum().item()\n",
        "\n",
        "    rnn_model.eval()\n",
        "    with torch.no_grad():\n",
        "        rnn_history[\"accuracy\"].append(train_acc / t_words)\n",
        "        rnn_history[\"loss\"].append(train_loss / t_words)\n",
        "        val_loss, val_acc = evaluate_rnn(rnn_model, loss_fn, val_dataloader_rnn)\n",
        "        rnn_history[\"val_loss\"].append(val_loss)\n",
        "        rnn_history[\"val_accuracy\"].append(val_acc)\n",
        "    torch.save(rnn_model.state_dict(), f\"{MODELS_PATH}/pos_tagger_rnn_{device}_{epoch}.pth\")\n",
        "torch.save(rnn_history, f\"{MODELS_PATH}/pos_tagger_rnn.history\")"
      ]
    },
    {
      "cell_type": "code",
      "execution_count": null,
      "metadata": {
        "id": "LEvge1AgurnL",
        "outputId": "21f27d1b-3bc0-4d91-ff2a-21daadae56c3"
      },
      "outputs": [
        {
          "data": {
            "image/png": "[encoded data removed]",
            "text/plain": [
              "<Figure size 1500x500 with 2 Axes>"
            ]
          },
          "metadata": {},
          "output_type": "display_data"
        }
      ],
      "source": [
        "plot_history(rnn_history)"
      ]
    },
    {
      "cell_type": "code",
      "execution_count": null,
      "metadata": {
        "id": "P3AC26m-IjXM",
        "outputId": "677f7ef8-1a39-48cc-9fa8-a2a10a64f71b"
      },
      "outputs": [
        {
          "data": {
            "text/html": [
              "<pre style=\"white-space:pre;overflow-x:auto;line-height:normal;font-family:Menlo,'DejaVu Sans Mono',consolas,'Courier New',monospace\">Accuracy <span style=\"font-weight: bold\">(</span>RNN<span style=\"font-weight: bold\">)</span>: <span style=\"color: #008080; text-decoration-color: #008080; font-weight: bold\">93.70</span>%\n",
              "</pre>\n"
            ],
            "text/plain": [
              "Accuracy \u001b[1m(\u001b[0mRNN\u001b[1m)\u001b[0m: \u001b[1;36m93.70\u001b[0m%\n"
            ]
          },
          "metadata": {},
          "output_type": "display_data"
        }
      ],
      "source": [
        "_, accuracy_rnn = evaluate_rnn(rnn_model, loss_fn, test_dataloader_rnn)\n",
        "rprint(f\"Accuracy (RNN): {accuracy_rnn * 100:.2f}%\")"
      ]
    },
    {
      "cell_type": "markdown",
      "metadata": {
        "id": "aQuAnqBmuqfB"
      },
      "source": [
        "#Práctica"
      ]
    },
    {
      "cell_type": "code",
      "execution_count": null,
      "metadata": {
        "id": "vktVRQ77usS1",
        "outputId": "e8c51482-2001-4fec-a868-57bd5a720ba8"
      },
      "outputs": [
        {
          "name": "stdout",
          "output_type": "stream",
          "text": [
            "Embeddings estáticos (GloVe):\n",
            "seventeenth-century: torch.Size([100])\n",
            "nige: torch.Size([100])\n",
            "cimbalom: torch.Size([100])\n",
            "enceinte: torch.Size([100])\n",
            "vengeful: torch.Size([100])\n",
            "gotter: torch.Size([100])\n",
            "mid-fifties: torch.Size([100])\n",
            "lancair: torch.Size([100])\n",
            "houghton: torch.Size([100])\n",
            "gusinje: torch.Size([100])\n",
            "300-dollar: torch.Size([100])\n",
            "sacirbey: torch.Size([100])\n",
            "kwtv: torch.Size([100])\n",
            "minoris: torch.Size([100])\n",
            "always-on: torch.Size([100])\n",
            "carrickshock: torch.Size([100])\n",
            "sauk: torch.Size([100])\n",
            "agreed-upon: torch.Size([100])\n",
            "trl: torch.Size([100])\n",
            "lewisham: torch.Size([100])\n",
            "ajok: torch.Size([100])\n",
            "giannakis: torch.Size([100])\n",
            "megazone: torch.Size([100])\n",
            "gfkpoll.com: torch.Size([100])\n",
            "misallocation: torch.Size([100])\n",
            "weadick: torch.Size([100])\n",
            "nwa: torch.Size([100])\n",
            "brownies: torch.Size([100])\n",
            "montclair: torch.Size([100])\n",
            "39.2: torch.Size([100])\n",
            "62,000: torch.Size([100])\n",
            "ellinwood: torch.Size([100])\n",
            "poltergeist: torch.Size([100])\n",
            "ba937: torch.Size([100])\n",
            "onnes: torch.Size([100])\n",
            "aal: torch.Size([100])\n",
            "rantel: torch.Size([100])\n",
            "beare: torch.Size([100])\n",
            "szdsz: torch.Size([100])\n",
            "shondells: torch.Size([100])\n",
            "2,287: torch.Size([100])\n",
            "weiyan: torch.Size([100])\n",
            "taxies: torch.Size([100])\n",
            "delima: torch.Size([100])\n",
            "pyramidalis: torch.Size([100])\n",
            "haul-out: torch.Size([100])\n",
            "leitzinger: torch.Size([100])\n",
            "andreina: torch.Size([100])\n",
            "rebaine: torch.Size([100])\n",
            "kibitzing: torch.Size([100])\n",
            "treves: torch.Size([100])\n",
            "tairrdelbach: torch.Size([100])\n",
            "munkkiniemi: torch.Size([100])\n",
            "camilli: torch.Size([100])\n",
            "lowenbrau: torch.Size([100])\n",
            "martynova: torch.Size([100])\n",
            "arakkal: torch.Size([100])\n",
            "zahid: torch.Size([100])\n",
            "tesser: torch.Size([100])\n",
            "hubnik: torch.Size([100])\n",
            "editoral: torch.Size([100])\n",
            "single-lane: torch.Size([100])\n",
            "eskişehirspor: torch.Size([100])\n",
            "margao: torch.Size([100])\n",
            "rempart: torch.Size([100])\n",
            "iberica: torch.Size([100])\n",
            "yotaro: torch.Size([100])\n",
            "297th: torch.Size([100])\n",
            "usk: torch.Size([100])\n",
            "sd1: torch.Size([100])\n",
            "genentech: torch.Size([100])\n",
            "stymie: torch.Size([100])\n",
            "geba: torch.Size([100])\n",
            "8-dot: torch.Size([100])\n",
            "capuchins: torch.Size([100])\n",
            "aghajari: torch.Size([100])\n",
            "ouidah: torch.Size([100])\n",
            "coltan: torch.Size([100])\n",
            "rondos: torch.Size([100])\n",
            "goryeo: torch.Size([100])\n",
            "mannering: torch.Size([100])\n",
            "triploid: torch.Size([100])\n",
            "ctrc: torch.Size([100])\n",
            "knister: torch.Size([100])\n",
            "gleiwitz: torch.Size([100])\n",
            "fallahian: torch.Size([100])\n",
            "passat: torch.Size([100])\n",
            "bejabbers: torch.Size([100])\n",
            "cav: torch.Size([100])\n",
            "tryavna: torch.Size([100])\n",
            "miriam: torch.Size([100])\n",
            "highest-paid: torch.Size([100])\n",
            "hearsts: torch.Size([100])\n",
            "froese: torch.Size([100])\n",
            "nectars: torch.Size([100])\n",
            "scituate: torch.Size([100])\n",
            "re-commenced: torch.Size([100])\n",
            "145.7: torch.Size([100])\n",
            "almog: torch.Size([100])\n",
            "cognisance: torch.Size([100])\n",
            "\n",
            "Embeddings dinámicos (RNN):\n",
            "miscalculations: (100,)\n",
            "kensett: (100,)\n",
            "hamayon: (100,)\n",
            "moravia: (100,)\n",
            "matlala: (100,)\n",
            "person-years: (100,)\n",
            "bearse: (100,)\n",
            "wangping: (100,)\n",
            "widera: (100,)\n",
            "shider: (100,)\n",
            "alias: (100,)\n",
            "56.69: (100,)\n",
            "‚: (100,)\n",
            "undefinable: (100,)\n",
            "melora: (100,)\n",
            "43.06: (100,)\n",
            "204.5: (100,)\n",
            "ries: (100,)\n",
            "fataar: (100,)\n",
            "intach: (100,)\n",
            "685-3810: (100,)\n",
            "licio: (100,)\n",
            "feldmarschall: (100,)\n",
            "97.15: (100,)\n",
            "swash: (100,)\n",
            "20.36: (100,)\n",
            "prorated: (100,)\n",
            "humpty: (100,)\n",
            "östers: (100,)\n",
            "tuebingen: (100,)\n",
            "14:15: (100,)\n",
            "numen: (100,)\n",
            "lho: (100,)\n",
            "monomeric: (100,)\n",
            "split-off: (100,)\n",
            "maxaquene: (100,)\n",
            "looser: (100,)\n",
            "khamidov: (100,)\n",
            "jeepney: (100,)\n",
            "then-deputy: (100,)\n",
            "squawk: (100,)\n",
            "polish-soviet: (100,)\n",
            "agumbe: (100,)\n",
            "mariota: (100,)\n",
            "dnssec: (100,)\n",
            "self-assurance: (100,)\n",
            "arbizu: (100,)\n",
            "sav: (100,)\n",
            "fimbriae: (100,)\n",
            "beyk: (100,)\n",
            "alehouses: (100,)\n",
            "villae: (100,)\n",
            "a-show: (100,)\n",
            "18-week: (100,)\n",
            "sympathise: (100,)\n",
            "101.11: (100,)\n",
            "brial: (100,)\n",
            "cya: (100,)\n",
            "louis-charles: (100,)\n",
            "coiled: (100,)\n",
            "imron: (100,)\n",
            "ivers: (100,)\n",
            "dinapoli: (100,)\n",
            "2,948: (100,)\n",
            "kalispell: (100,)\n",
            "dris: (100,)\n",
            "artek: (100,)\n",
            "consume: (100,)\n",
            "munene: (100,)\n",
            "oppdal: (100,)\n",
            "disciples: (100,)\n",
            "high-dose: (100,)\n",
            "mueck: (100,)\n",
            "pagán: (100,)\n",
            "beecham: (100,)\n",
            "ncsy: (100,)\n",
            "secessionist: (100,)\n",
            "ordem: (100,)\n",
            "kirketerp: (100,)\n",
            "rosendal: (100,)\n",
            "5,420: (100,)\n",
            "hamoudi: (100,)\n",
            "bombardieriglobe.com: (100,)\n",
            "illi: (100,)\n",
            "pellegrino: (100,)\n",
            "walendy: (100,)\n",
            "kenah: (100,)\n",
            "mcweeny: (100,)\n",
            "27,250: (100,)\n",
            "lowth: (100,)\n",
            "lynott: (100,)\n",
            "frequencies: (100,)\n",
            "shakeshaft: (100,)\n",
            "valadez: (100,)\n",
            "militare: (100,)\n",
            "sealand: (100,)\n",
            "acidic: (100,)\n",
            "limited-slip: (100,)\n",
            "firenza: (100,)\n",
            "čakovec: (100,)\n"
          ]
        }
      ],
      "source": [
        "# Seleccionar 100 palabras aleatorias del modelo GloVe (estáticos)\n",
        "random_words_static = random.sample(list(embeddings.keys()), 100)\n",
        "static_embeddings = {word: embeddings[word] for word in random_words_static}\n",
        "\n",
        "print(\"Embeddings estáticos (GloVe):\")\n",
        "for word, vector in static_embeddings.items():\n",
        "    print(f\"{word}: {vector.shape}\")\n",
        "\n",
        "# Seleccionar 100 palabras del vocabulario del RNN (dinámicos)\n",
        "random_words_dynamic = random.sample(list(word2idx.keys()), 100)\n",
        "\n",
        "# Convertir palabras a índices y obtener embeddings del modelo\n",
        "indices = torch.tensor(\n",
        "    [word2idx[word] for word in random_words_dynamic],\n",
        "    dtype=torch.long,\n",
        "    device=device\n",
        ")\n",
        "dynamic_embeddings = rnn_model.embedding(indices).detach().cpu()\n",
        "\n",
        "# Crear diccionario con la muestra de palabras y sus embeddings dinámicos\n",
        "dynamic_embeddings_dict = {\n",
        "    word: embedding.numpy()\n",
        "    for word, embedding in zip(random_words_dynamic, dynamic_embeddings)\n",
        "}\n",
        "\n",
        "print(\"\\nEmbeddings dinámicos (RNN):\")\n",
        "for word, vector in dynamic_embeddings_dict.items():\n",
        "    print(f\"{word}: {vector.shape}\")"
      ]
    },
    {
      "cell_type": "code",
      "execution_count": null,
      "metadata": {
        "id": "z0_UrM9CydmT"
      },
      "outputs": [],
      "source": [
        "#Para facilitar el procedimiento y no realizar lo mismo dos veces, definimos una función para graficar los embeddings y el clustering\n",
        "def plot_clusters(embeddings_dict, n_clusters=5, pos_embeddings=None):\n",
        "    # Convertir a arrays\n",
        "    words = list(embeddings_dict.keys())\n",
        "    vectors = np.array([v.numpy() if isinstance(v, torch.Tensor) else v for v in embeddings_dict.values()])\n",
        "\n",
        "    # Reducción de dimensionalidad con PCA\n",
        "    reducer = PCA(n_components=2)\n",
        "    reduced_vectors = reducer.fit_transform(vectors)\n",
        "\n",
        "\n",
        "    # Clustering\n",
        "    kmeans = KMeans(n_clusters=n_clusters, random_state=42)\n",
        "    clusters = kmeans.fit_predict(vectors)\n",
        "\n",
        "\n",
        "    # Plot\n",
        "    plt.figure(figsize=(12, 8))\n",
        "    colors = ['#FFD700', '#4B0082', '#00FF00', '#FF0000', '#00BFFF']  # 5 colores distintos\n",
        "\n",
        "    for cluster_id in range(n_clusters):\n",
        "        cluster_points = reduced_vectors[clusters == cluster_id]\n",
        "        plt.scatter(\n",
        "            cluster_points[:, 0],\n",
        "            cluster_points[:, 1],\n",
        "            color=colors[cluster_id % len(colors)],\n",
        "            label=f'Cluster {cluster_id}',\n",
        "            alpha=0.5\n",
        "        )\n",
        "\n",
        "        # Anotar algunas palabras\n",
        "        for i, (x, y) in enumerate(cluster_points):\n",
        "            if i % 3 == 0:  # Anotar 1 de cada 3 para no saturar\n",
        "                plt.annotate(\n",
        "                    words[np.where(clusters == cluster_id)[0][i]],\n",
        "                    (x, y),\n",
        "                    fontsize=8,\n",
        "                    alpha=0.7\n",
        "                )\n",
        "\n",
        "    plt.title(\"Embeddings en 2D con Clustering\")\n",
        "    #Habilitamos la opción de agregar las etiquetas POS al gráfico\n",
        "    if pos_embeddings is not None:\n",
        "        symbols=['.', ',', 'o', 'v' ,'^', '1', '2', '3', '4', '8', 's', 'p', '*', '+', 'x', 'D', '|', '_']\n",
        "        print(len(symbols))\n",
        "        pos_embeddings_reduced = reducer.fit_transform(list(pos_embeddings.values()))\n",
        "        for i,pos in enumerate(pos_embeddings.items()):\n",
        "            plt.scatter(pos_embeddings_reduced[i][0], pos_embeddings_reduced[i][1], color='black', marker=symbols[i%len(symbols)],alpha=0.8)\n",
        "            plt.annotate(pos[0], (pos_embeddings_reduced[i][0], pos_embeddings_reduced[i][1]), fontsize=8, alpha=0.7)\n",
        "    plt.legend()\n",
        "    plt.grid(alpha=0.3)\n",
        "    plt.show()\n"
      ]
    },
    {
      "cell_type": "code",
      "execution_count": null,
      "metadata": {
        "id": "6Wk7PSPjydmU",
        "outputId": "9de2cb69-8668-4d82-b3b8-9c8561f2633e"
      },
      "outputs": [
        {
          "name": "stdout",
          "output_type": "stream",
          "text": [
            "Clustering para embeddings estáticos (GloVe)\n"
          ]
        },
        {
          "data": {
            "image/png": "[encoded data removed]",
            "text/plain": [
              "<Figure size 1200x800 with 1 Axes>"
            ]
          },
          "metadata": {},
          "output_type": "display_data"
        }
      ],
      "source": [
        "# -----------------------------------------------------------\n",
        "# Para embeddings estáticos\n",
        "# -----------------------------------------------------------\n",
        "print(\"Clustering para embeddings estáticos (GloVe)\")\n",
        "plot_clusters(static_embeddings, n_clusters=5)\n"
      ]
    },
    {
      "cell_type": "code",
      "execution_count": null,
      "metadata": {
        "id": "Ay7R5E0jydmU",
        "outputId": "081a7733-901a-4a4b-ce97-463a5fc45343"
      },
      "outputs": [
        {
          "name": "stdout",
          "output_type": "stream",
          "text": [
            "\n",
            "Clustering para embeddings dinámicos (RNN)\n"
          ]
        },
        {
          "data": {
            "image/png": "[encoded data removed]",
            "text/plain": [
              "<Figure size 1200x800 with 1 Axes>"
            ]
          },
          "metadata": {},
          "output_type": "display_data"
        }
      ],
      "source": [
        "\n",
        "# -----------------------------------------------------------\n",
        "# Para embeddings dinámicos (RNN)\n",
        "# -----------------------------------------------------------\n",
        "print(\"\\nClustering para embeddings dinámicos (RNN)\")\n",
        "plot_clusters(dynamic_embeddings_dict, n_clusters=5)"
      ]
    },
    {
      "cell_type": "code",
      "execution_count": null,
      "metadata": {
        "id": "BDjBssznydmV"
      },
      "outputs": [],
      "source": [
        "# Obtener embeddings POS desde la capa lineal del modelo\n",
        "pos_embeddings_dynamic = {\n",
        "    pos: rnn_model.linear.weight.data.cpu().numpy()[pos_id]\n",
        "    for pos, pos_id in pos2idx.items() if pos_id!='start'and pos!='_' and pos!='X'\n",
        "}\n"
      ]
    },
    {
      "cell_type": "code",
      "execution_count": null,
      "metadata": {
        "id": "oHJUsj1FydmV",
        "outputId": "38651715-e75d-4fca-c439-cd5561f4e4b3"
      },
      "outputs": [
        {
          "name": "stdout",
          "output_type": "stream",
          "text": [
            "18\n"
          ]
        },
        {
          "data": {
            "image/png": "[encoded data removed]",
            "text/plain": [
              "<Figure size 1200x800 with 1 Axes>"
            ]
          },
          "metadata": {},
          "output_type": "display_data"
        }
      ],
      "source": [
        "# -----------------------------------------------------------\n",
        "# Para embeddings estáticos con las etiquetas POS\n",
        "# -----------------------------------------------------------\n",
        "plot_clusters(static_embeddings, n_clusters=5, pos_embeddings=pos_embeddings_dynamic)\n"
      ]
    },
    {
      "cell_type": "code",
      "execution_count": null,
      "metadata": {
        "id": "tY6FYfjkydmV",
        "outputId": "3368a230-0cdd-4872-b99a-aa63303979f4"
      },
      "outputs": [
        {
          "name": "stdout",
          "output_type": "stream",
          "text": [
            "18\n"
          ]
        },
        {
          "data": {
            "image/png": "[encoded data removed]",
            "text/plain": [
              "<Figure size 1200x800 with 1 Axes>"
            ]
          },
          "metadata": {},
          "output_type": "display_data"
        }
      ],
      "source": [
        "# -----------------------------------------------------------\n",
        "# Para embeddings dinámicos con las etiquetas POS\n",
        "# -----------------------------------------------------------\n",
        "plot_clusters(dynamic_embeddings_dict, n_clusters=5, pos_embeddings=pos_embeddings_dynamic)\n"
      ]
    },
    {
      "cell_type": "markdown",
      "metadata": {
        "id": "I_Dum1BpydmV"
      },
      "source": [
        "#Conclusiones\n",
        "Recordemos que los embeddings estáticos (GloVe) son representaciones que están basadas en un DSM, de esta forma al hacer un agrupamiento tienden a agruparse en clusters que reflejan relaciones semánticas y de significado. Por otro lado, los embeddings dinámicos fueron obtenidos de la RNN utilizada para clasificar las etiquetas POS, por lo que pueden estar mejor adaptados a la tarea de etiquetado POS específicamente. Esto lo podemos ver en nuestras dos gráficas, donde vemos que en la parte dinámica podemos ver dos grandes culteres que parecen pertenecer a diferentes etiquetas POS, pero que, están relacionadas entre sí. Por otro lado, en la parte estática podemos observar menos consistentes a los clusteres, y no se ve que haya una clara tendencia hacia una etiqueta POS, lo cual es normal, pues en este caso dichos embeddings están más relacionados por su significado que por su etiqueta POS como lo es en el caso de los embeddings dinámicos. También cabe aclarar que dicho análisis puede variar pues se toma una muestra de 100 palabras al azar."
      ]
    },
    {
      "cell_type": "code",
      "execution_count": null,
      "metadata": {
        "id": "eQI4Ys3tydmW"
      },
      "outputs": [],
      "source": []
    }
  ],
  "metadata": {
    "accelerator": "GPU",
    "colab": {
      "gpuType": "T4",
      "provenance": []
    },
    "kernelspec": {
      "display_name": ".venv",
      "language": "python",
      "name": "python3"
    },
    "language_info": {
      "codemirror_mode": {
        "name": "ipython",
        "version": 3
      },
      "file_extension": ".py",
      "mimetype": "text/x-python",
      "name": "python",
      "nbconvert_exporter": "python",
      "pygments_lexer": "ipython3",
      "version": "3.12.2"
    },
    "widgets": {
      "application/vnd.jupyter.widget-state+json": {
        "0067894ca94942e79030e162570b2e6e": {
          "model_module": "@jupyter-widgets/controls",
          "model_module_version": "1.5.0",
          "model_name": "DescriptionStyleModel",
          "state": {
            "_model_module": "@jupyter-widgets/controls",
            "_model_module_version": "1.5.0",
            "_model_name": "DescriptionStyleModel",
            "_view_count": null,
            "_view_module": "@jupyter-widgets/base",
            "_view_module_version": "1.2.0",
            "_view_name": "StyleView",
            "description_width": ""
          }
        },
        "014557fe73bb4fd695da232536ce32c8": {
          "model_module": "@jupyter-widgets/base",
          "model_module_version": "1.2.0",
          "model_name": "LayoutModel",
          "state": {
            "_model_module": "@jupyter-widgets/base",
            "_model_module_version": "1.2.0",
            "_model_name": "LayoutModel",
            "_view_count": null,
            "_view_module": "@jupyter-widgets/base",
            "_view_module_version": "1.2.0",
            "_view_name": "LayoutView",
            "align_content": null,
            "align_items": null,
            "align_self": null,
            "border": null,
            "bottom": null,
            "display": null,
            "flex": null,
            "flex_flow": null,
            "grid_area": null,
            "grid_auto_columns": null,
            "grid_auto_flow": null,
            "grid_auto_rows": null,
            "grid_column": null,
            "grid_gap": null,
            "grid_row": null,
            "grid_template_areas": null,
            "grid_template_columns": null,
            "grid_template_rows": null,
            "height": null,
            "justify_content": null,
            "justify_items": null,
            "left": null,
            "margin": null,
            "max_height": null,
            "max_width": null,
            "min_height": null,
            "min_width": null,
            "object_fit": null,
            "object_position": null,
            "order": null,
            "overflow": null,
            "overflow_x": null,
            "overflow_y": null,
            "padding": null,
            "right": null,
            "top": null,
            "visibility": null,
            "width": null
          }
        },
        "016d2038707a491abd58ea9ebcf7257b": {
          "model_module": "@jupyter-widgets/controls",
          "model_module_version": "1.5.0",
          "model_name": "DescriptionStyleModel",
          "state": {
            "_model_module": "@jupyter-widgets/controls",
            "_model_module_version": "1.5.0",
            "_model_name": "DescriptionStyleModel",
            "_view_count": null,
            "_view_module": "@jupyter-widgets/base",
            "_view_module_version": "1.2.0",
            "_view_name": "StyleView",
            "description_width": ""
          }
        },
        "034256ed5d11424aba5a3f4f1dcb1a98": {
          "model_module": "@jupyter-widgets/base",
          "model_module_version": "1.2.0",
          "model_name": "LayoutModel",
          "state": {
            "_model_module": "@jupyter-widgets/base",
            "_model_module_version": "1.2.0",
            "_model_name": "LayoutModel",
            "_view_count": null,
            "_view_module": "@jupyter-widgets/base",
            "_view_module_version": "1.2.0",
            "_view_name": "LayoutView",
            "align_content": null,
            "align_items": null,
            "align_self": null,
            "border": null,
            "bottom": null,
            "display": null,
            "flex": null,
            "flex_flow": null,
            "grid_area": null,
            "grid_auto_columns": null,
            "grid_auto_flow": null,
            "grid_auto_rows": null,
            "grid_column": null,
            "grid_gap": null,
            "grid_row": null,
            "grid_template_areas": null,
            "grid_template_columns": null,
            "grid_template_rows": null,
            "height": null,
            "justify_content": null,
            "justify_items": null,
            "left": null,
            "margin": null,
            "max_height": null,
            "max_width": null,
            "min_height": null,
            "min_width": null,
            "object_fit": null,
            "object_position": null,
            "order": null,
            "overflow": null,
            "overflow_x": null,
            "overflow_y": null,
            "padding": null,
            "right": null,
            "top": null,
            "visibility": null,
            "width": null
          }
        },
        "038c2205e58243489c9df565394024c9": {
          "model_module": "@jupyter-widgets/base",
          "model_module_version": "1.2.0",
          "model_name": "LayoutModel",
          "state": {
            "_model_module": "@jupyter-widgets/base",
            "_model_module_version": "1.2.0",
            "_model_name": "LayoutModel",
            "_view_count": null,
            "_view_module": "@jupyter-widgets/base",
            "_view_module_version": "1.2.0",
            "_view_name": "LayoutView",
            "align_content": null,
            "align_items": null,
            "align_self": null,
            "border": null,
            "bottom": null,
            "display": null,
            "flex": null,
            "flex_flow": null,
            "grid_area": null,
            "grid_auto_columns": null,
            "grid_auto_flow": null,
            "grid_auto_rows": null,
            "grid_column": null,
            "grid_gap": null,
            "grid_row": null,
            "grid_template_areas": null,
            "grid_template_columns": null,
            "grid_template_rows": null,
            "height": null,
            "justify_content": null,
            "justify_items": null,
            "left": null,
            "margin": null,
            "max_height": null,
            "max_width": null,
            "min_height": null,
            "min_width": null,
            "object_fit": null,
            "object_position": null,
            "order": null,
            "overflow": null,
            "overflow_x": null,
            "overflow_y": null,
            "padding": null,
            "right": null,
            "top": null,
            "visibility": null,
            "width": null
          }
        },
        "057921cb7dc148c28e18ea0c895dd607": {
          "model_module": "@jupyter-widgets/base",
          "model_module_version": "1.2.0",
          "model_name": "LayoutModel",
          "state": {
            "_model_module": "@jupyter-widgets/base",
            "_model_module_version": "1.2.0",
            "_model_name": "LayoutModel",
            "_view_count": null,
            "_view_module": "@jupyter-widgets/base",
            "_view_module_version": "1.2.0",
            "_view_name": "LayoutView",
            "align_content": null,
            "align_items": null,
            "align_self": null,
            "border": null,
            "bottom": null,
            "display": null,
            "flex": null,
            "flex_flow": null,
            "grid_area": null,
            "grid_auto_columns": null,
            "grid_auto_flow": null,
            "grid_auto_rows": null,
            "grid_column": null,
            "grid_gap": null,
            "grid_row": null,
            "grid_template_areas": null,
            "grid_template_columns": null,
            "grid_template_rows": null,
            "height": null,
            "justify_content": null,
            "justify_items": null,
            "left": null,
            "margin": null,
            "max_height": null,
            "max_width": null,
            "min_height": null,
            "min_width": null,
            "object_fit": null,
            "object_position": null,
            "order": null,
            "overflow": null,
            "overflow_x": null,
            "overflow_y": null,
            "padding": null,
            "right": null,
            "top": null,
            "visibility": null,
            "width": null
          }
        },
        "069568e7eea44f0793dda49f77341c61": {
          "model_module": "@jupyter-widgets/controls",
          "model_module_version": "1.5.0",
          "model_name": "HBoxModel",
          "state": {
            "_dom_classes": [],
            "_model_module": "@jupyter-widgets/controls",
            "_model_module_version": "1.5.0",
            "_model_name": "HBoxModel",
            "_view_count": null,
            "_view_module": "@jupyter-widgets/controls",
            "_view_module_version": "1.5.0",
            "_view_name": "HBoxView",
            "box_style": "",
            "children": [
              "IPY_MODEL_1763aa85df7148cf9c49e1369c5a5578",
              "IPY_MODEL_330c21cac2f04f58b2fb85aec112ea98",
              "IPY_MODEL_93088645d4804832a567177ed735c7bb"
            ],
            "layout": "IPY_MODEL_ffafb150deed400f8eff1d5e40f48927"
          }
        },
        "06cb5202bd7148659ae413191a43ae4f": {
          "model_module": "@jupyter-widgets/controls",
          "model_module_version": "1.5.0",
          "model_name": "ProgressStyleModel",
          "state": {
            "_model_module": "@jupyter-widgets/controls",
            "_model_module_version": "1.5.0",
            "_model_name": "ProgressStyleModel",
            "_view_count": null,
            "_view_module": "@jupyter-widgets/base",
            "_view_module_version": "1.2.0",
            "_view_name": "StyleView",
            "bar_color": null,
            "description_width": ""
          }
        },
        "0771acc626e4482eab9a48ca436854c3": {
          "model_module": "@jupyter-widgets/controls",
          "model_module_version": "1.5.0",
          "model_name": "FloatProgressModel",
          "state": {
            "_dom_classes": [],
            "_model_module": "@jupyter-widgets/controls",
            "_model_module_version": "1.5.0",
            "_model_name": "FloatProgressModel",
            "_view_count": null,
            "_view_module": "@jupyter-widgets/controls",
            "_view_module_version": "1.5.0",
            "_view_name": "ProgressView",
            "bar_style": "",
            "description": "",
            "description_tooltip": null,
            "layout": "IPY_MODEL_b31b2833110549c39d481e5507dca935",
            "max": 19,
            "min": 0,
            "orientation": "horizontal",
            "style": "IPY_MODEL_aa24af39cc7a4016b945f40d4bc58599",
            "value": 5
          }
        },
        "08bb0de19f1d47dab3fe4a98b018e091": {
          "model_module": "@jupyter-widgets/base",
          "model_module_version": "1.2.0",
          "model_name": "LayoutModel",
          "state": {
            "_model_module": "@jupyter-widgets/base",
            "_model_module_version": "1.2.0",
            "_model_name": "LayoutModel",
            "_view_count": null,
            "_view_module": "@jupyter-widgets/base",
            "_view_module_version": "1.2.0",
            "_view_name": "LayoutView",
            "align_content": null,
            "align_items": null,
            "align_self": null,
            "border": null,
            "bottom": null,
            "display": null,
            "flex": null,
            "flex_flow": null,
            "grid_area": null,
            "grid_auto_columns": null,
            "grid_auto_flow": null,
            "grid_auto_rows": null,
            "grid_column": null,
            "grid_gap": null,
            "grid_row": null,
            "grid_template_areas": null,
            "grid_template_columns": null,
            "grid_template_rows": null,
            "height": null,
            "justify_content": null,
            "justify_items": null,
            "left": null,
            "margin": null,
            "max_height": null,
            "max_width": null,
            "min_height": null,
            "min_width": null,
            "object_fit": null,
            "object_position": null,
            "order": null,
            "overflow": null,
            "overflow_x": null,
            "overflow_y": null,
            "padding": null,
            "right": null,
            "top": null,
            "visibility": null,
            "width": null
          }
        },
        "0e890afb8aac4779a4e17961427ce59b": {
          "model_module": "@jupyter-widgets/controls",
          "model_module_version": "1.5.0",
          "model_name": "HTMLModel",
          "state": {
            "_dom_classes": [],
            "_model_module": "@jupyter-widgets/controls",
            "_model_module_version": "1.5.0",
            "_model_name": "HTMLModel",
            "_view_count": null,
            "_view_module": "@jupyter-widgets/controls",
            "_view_module_version": "1.5.0",
            "_view_name": "HTMLView",
            "description": "",
            "description_tooltip": null,
            "layout": "IPY_MODEL_e855c8d6af29416c8fea613302aa14ca",
            "placeholder": "​",
            "style": "IPY_MODEL_6d970c0432044c8eb29ca268909e5785",
            "value": " 19/19 [03:07&lt;00:00,  8.63s/it]"
          }
        },
        "12902e591f7a4a9887df70fa1b5f16c0": {
          "model_module": "@jupyter-widgets/controls",
          "model_module_version": "1.5.0",
          "model_name": "DescriptionStyleModel",
          "state": {
            "_model_module": "@jupyter-widgets/controls",
            "_model_module_version": "1.5.0",
            "_model_name": "DescriptionStyleModel",
            "_view_count": null,
            "_view_module": "@jupyter-widgets/base",
            "_view_module_version": "1.2.0",
            "_view_name": "StyleView",
            "description_width": ""
          }
        },
        "140d5ff2f4f444d0ac3d5597e317249d": {
          "model_module": "@jupyter-widgets/base",
          "model_module_version": "1.2.0",
          "model_name": "LayoutModel",
          "state": {
            "_model_module": "@jupyter-widgets/base",
            "_model_module_version": "1.2.0",
            "_model_name": "LayoutModel",
            "_view_count": null,
            "_view_module": "@jupyter-widgets/base",
            "_view_module_version": "1.2.0",
            "_view_name": "LayoutView",
            "align_content": null,
            "align_items": null,
            "align_self": null,
            "border": null,
            "bottom": null,
            "display": null,
            "flex": null,
            "flex_flow": null,
            "grid_area": null,
            "grid_auto_columns": null,
            "grid_auto_flow": null,
            "grid_auto_rows": null,
            "grid_column": null,
            "grid_gap": null,
            "grid_row": null,
            "grid_template_areas": null,
            "grid_template_columns": null,
            "grid_template_rows": null,
            "height": null,
            "justify_content": null,
            "justify_items": null,
            "left": null,
            "margin": null,
            "max_height": null,
            "max_width": null,
            "min_height": null,
            "min_width": null,
            "object_fit": null,
            "object_position": null,
            "order": null,
            "overflow": null,
            "overflow_x": null,
            "overflow_y": null,
            "padding": null,
            "right": null,
            "top": null,
            "visibility": null,
            "width": null
          }
        },
        "1763aa85df7148cf9c49e1369c5a5578": {
          "model_module": "@jupyter-widgets/controls",
          "model_module_version": "1.5.0",
          "model_name": "HTMLModel",
          "state": {
            "_dom_classes": [],
            "_model_module": "@jupyter-widgets/controls",
            "_model_module_version": "1.5.0",
            "_model_name": "HTMLModel",
            "_view_count": null,
            "_view_module": "@jupyter-widgets/controls",
            "_view_module_version": "1.5.0",
            "_view_name": "HTMLView",
            "description": "",
            "description_tooltip": null,
            "layout": "IPY_MODEL_7603b37d0c4c40a4a74280fdc6de1e9d",
            "placeholder": "​",
            "style": "IPY_MODEL_3201ca5c2fa14e33840186f9c856790d",
            "value": " 50%"
          }
        },
        "192a5780dee64c38823b6fc72956ad43": {
          "model_module": "@jupyter-widgets/controls",
          "model_module_version": "1.5.0",
          "model_name": "FloatProgressModel",
          "state": {
            "_dom_classes": [],
            "_model_module": "@jupyter-widgets/controls",
            "_model_module_version": "1.5.0",
            "_model_name": "FloatProgressModel",
            "_view_count": null,
            "_view_module": "@jupyter-widgets/controls",
            "_view_module_version": "1.5.0",
            "_view_name": "ProgressView",
            "bar_style": "success",
            "description": "",
            "description_tooltip": null,
            "layout": "IPY_MODEL_014557fe73bb4fd695da232536ce32c8",
            "max": 19,
            "min": 0,
            "orientation": "horizontal",
            "style": "IPY_MODEL_b4b8918b4cc548c5b7b54e25ccdaa076",
            "value": 19
          }
        },
        "28fd972e72764c75a7cedd193d56d0c4": {
          "model_module": "@jupyter-widgets/base",
          "model_module_version": "1.2.0",
          "model_name": "LayoutModel",
          "state": {
            "_model_module": "@jupyter-widgets/base",
            "_model_module_version": "1.2.0",
            "_model_name": "LayoutModel",
            "_view_count": null,
            "_view_module": "@jupyter-widgets/base",
            "_view_module_version": "1.2.0",
            "_view_name": "LayoutView",
            "align_content": null,
            "align_items": null,
            "align_self": null,
            "border": null,
            "bottom": null,
            "display": null,
            "flex": null,
            "flex_flow": null,
            "grid_area": null,
            "grid_auto_columns": null,
            "grid_auto_flow": null,
            "grid_auto_rows": null,
            "grid_column": null,
            "grid_gap": null,
            "grid_row": null,
            "grid_template_areas": null,
            "grid_template_columns": null,
            "grid_template_rows": null,
            "height": null,
            "justify_content": null,
            "justify_items": null,
            "left": null,
            "margin": null,
            "max_height": null,
            "max_width": null,
            "min_height": null,
            "min_width": null,
            "object_fit": null,
            "object_position": null,
            "order": null,
            "overflow": null,
            "overflow_x": null,
            "overflow_y": null,
            "padding": null,
            "right": null,
            "top": null,
            "visibility": null,
            "width": null
          }
        },
        "3201ca5c2fa14e33840186f9c856790d": {
          "model_module": "@jupyter-widgets/controls",
          "model_module_version": "1.5.0",
          "model_name": "DescriptionStyleModel",
          "state": {
            "_model_module": "@jupyter-widgets/controls",
            "_model_module_version": "1.5.0",
            "_model_name": "DescriptionStyleModel",
            "_view_count": null,
            "_view_module": "@jupyter-widgets/base",
            "_view_module_version": "1.2.0",
            "_view_name": "StyleView",
            "description_width": ""
          }
        },
        "330c21cac2f04f58b2fb85aec112ea98": {
          "model_module": "@jupyter-widgets/controls",
          "model_module_version": "1.5.0",
          "model_name": "FloatProgressModel",
          "state": {
            "_dom_classes": [],
            "_model_module": "@jupyter-widgets/controls",
            "_model_module_version": "1.5.0",
            "_model_name": "FloatProgressModel",
            "_view_count": null,
            "_view_module": "@jupyter-widgets/controls",
            "_view_module_version": "1.5.0",
            "_view_name": "ProgressView",
            "bar_style": "",
            "description": "",
            "description_tooltip": null,
            "layout": "IPY_MODEL_f98f8e29493b40d7af23e38e8ee3b80e",
            "max": 10,
            "min": 0,
            "orientation": "horizontal",
            "style": "IPY_MODEL_06cb5202bd7148659ae413191a43ae4f",
            "value": 5
          }
        },
        "3c9516275dd243a1ab33b5d70b137a26": {
          "model_module": "@jupyter-widgets/controls",
          "model_module_version": "1.5.0",
          "model_name": "DescriptionStyleModel",
          "state": {
            "_model_module": "@jupyter-widgets/controls",
            "_model_module_version": "1.5.0",
            "_model_name": "DescriptionStyleModel",
            "_view_count": null,
            "_view_module": "@jupyter-widgets/base",
            "_view_module_version": "1.2.0",
            "_view_name": "StyleView",
            "description_width": ""
          }
        },
        "402b47a3af9f49c4bf87789c9c155d40": {
          "model_module": "@jupyter-widgets/controls",
          "model_module_version": "1.5.0",
          "model_name": "HTMLModel",
          "state": {
            "_dom_classes": [],
            "_model_module": "@jupyter-widgets/controls",
            "_model_module_version": "1.5.0",
            "_model_name": "HTMLModel",
            "_view_count": null,
            "_view_module": "@jupyter-widgets/controls",
            "_view_module_version": "1.5.0",
            "_view_name": "HTMLView",
            "description": "",
            "description_tooltip": null,
            "layout": "IPY_MODEL_eddc9e5f45ce43ad89baffaf578a0645",
            "placeholder": "​",
            "style": "IPY_MODEL_e5566aed91bc4f6fb968f81232ca7230",
            "value": " 19/19 [03:12&lt;00:00,  9.49s/it]"
          }
        },
        "40e955d21ae54f3d91812ca372f2e104": {
          "model_module": "@jupyter-widgets/controls",
          "model_module_version": "1.5.0",
          "model_name": "ProgressStyleModel",
          "state": {
            "_model_module": "@jupyter-widgets/controls",
            "_model_module_version": "1.5.0",
            "_model_name": "ProgressStyleModel",
            "_view_count": null,
            "_view_module": "@jupyter-widgets/base",
            "_view_module_version": "1.2.0",
            "_view_name": "StyleView",
            "bar_color": null,
            "description_width": ""
          }
        },
        "49628377516c4cf7a6f427dbd5143bb5": {
          "model_module": "@jupyter-widgets/base",
          "model_module_version": "1.2.0",
          "model_name": "LayoutModel",
          "state": {
            "_model_module": "@jupyter-widgets/base",
            "_model_module_version": "1.2.0",
            "_model_name": "LayoutModel",
            "_view_count": null,
            "_view_module": "@jupyter-widgets/base",
            "_view_module_version": "1.2.0",
            "_view_name": "LayoutView",
            "align_content": null,
            "align_items": null,
            "align_self": null,
            "border": null,
            "bottom": null,
            "display": null,
            "flex": null,
            "flex_flow": null,
            "grid_area": null,
            "grid_auto_columns": null,
            "grid_auto_flow": null,
            "grid_auto_rows": null,
            "grid_column": null,
            "grid_gap": null,
            "grid_row": null,
            "grid_template_areas": null,
            "grid_template_columns": null,
            "grid_template_rows": null,
            "height": null,
            "justify_content": null,
            "justify_items": null,
            "left": null,
            "margin": null,
            "max_height": null,
            "max_width": null,
            "min_height": null,
            "min_width": null,
            "object_fit": null,
            "object_position": null,
            "order": null,
            "overflow": null,
            "overflow_x": null,
            "overflow_y": null,
            "padding": null,
            "right": null,
            "top": null,
            "visibility": null,
            "width": null
          }
        },
        "4b0f8ea742114a239d89152845b3c470": {
          "model_module": "@jupyter-widgets/controls",
          "model_module_version": "1.5.0",
          "model_name": "ProgressStyleModel",
          "state": {
            "_model_module": "@jupyter-widgets/controls",
            "_model_module_version": "1.5.0",
            "_model_name": "ProgressStyleModel",
            "_view_count": null,
            "_view_module": "@jupyter-widgets/base",
            "_view_module_version": "1.2.0",
            "_view_name": "StyleView",
            "bar_color": null,
            "description_width": ""
          }
        },
        "4d20f29a7e2148bab81ca3b788824cce": {
          "model_module": "@jupyter-widgets/base",
          "model_module_version": "1.2.0",
          "model_name": "LayoutModel",
          "state": {
            "_model_module": "@jupyter-widgets/base",
            "_model_module_version": "1.2.0",
            "_model_name": "LayoutModel",
            "_view_count": null,
            "_view_module": "@jupyter-widgets/base",
            "_view_module_version": "1.2.0",
            "_view_name": "LayoutView",
            "align_content": null,
            "align_items": null,
            "align_self": null,
            "border": null,
            "bottom": null,
            "display": null,
            "flex": null,
            "flex_flow": null,
            "grid_area": null,
            "grid_auto_columns": null,
            "grid_auto_flow": null,
            "grid_auto_rows": null,
            "grid_column": null,
            "grid_gap": null,
            "grid_row": null,
            "grid_template_areas": null,
            "grid_template_columns": null,
            "grid_template_rows": null,
            "height": null,
            "justify_content": null,
            "justify_items": null,
            "left": null,
            "margin": null,
            "max_height": null,
            "max_width": null,
            "min_height": null,
            "min_width": null,
            "object_fit": null,
            "object_position": null,
            "order": null,
            "overflow": null,
            "overflow_x": null,
            "overflow_y": null,
            "padding": null,
            "right": null,
            "top": null,
            "visibility": null,
            "width": null
          }
        },
        "4dba54ece16148b287a09b8abc05a8df": {
          "model_module": "@jupyter-widgets/controls",
          "model_module_version": "1.5.0",
          "model_name": "FloatProgressModel",
          "state": {
            "_dom_classes": [],
            "_model_module": "@jupyter-widgets/controls",
            "_model_module_version": "1.5.0",
            "_model_name": "FloatProgressModel",
            "_view_count": null,
            "_view_module": "@jupyter-widgets/controls",
            "_view_module_version": "1.5.0",
            "_view_name": "ProgressView",
            "bar_style": "success",
            "description": "",
            "description_tooltip": null,
            "layout": "IPY_MODEL_28fd972e72764c75a7cedd193d56d0c4",
            "max": 19,
            "min": 0,
            "orientation": "horizontal",
            "style": "IPY_MODEL_9e267f4aa1b6497c90471a4dc179a2d0",
            "value": 19
          }
        },
        "4eaff0d06550454597fa580dd671b367": {
          "model_module": "@jupyter-widgets/controls",
          "model_module_version": "1.5.0",
          "model_name": "DescriptionStyleModel",
          "state": {
            "_model_module": "@jupyter-widgets/controls",
            "_model_module_version": "1.5.0",
            "_model_name": "DescriptionStyleModel",
            "_view_count": null,
            "_view_module": "@jupyter-widgets/base",
            "_view_module_version": "1.2.0",
            "_view_name": "StyleView",
            "description_width": ""
          }
        },
        "58b5ad0493c9496da46c85148d86c1cf": {
          "model_module": "@jupyter-widgets/controls",
          "model_module_version": "1.5.0",
          "model_name": "HBoxModel",
          "state": {
            "_dom_classes": [],
            "_model_module": "@jupyter-widgets/controls",
            "_model_module_version": "1.5.0",
            "_model_name": "HBoxModel",
            "_view_count": null,
            "_view_module": "@jupyter-widgets/controls",
            "_view_module_version": "1.5.0",
            "_view_name": "HBoxView",
            "box_style": "",
            "children": [
              "IPY_MODEL_63bc6d3889374394aaf87a3df51bc710",
              "IPY_MODEL_e59ce981d6fe4f568845467e77841951",
              "IPY_MODEL_0e890afb8aac4779a4e17961427ce59b"
            ],
            "layout": "IPY_MODEL_aca1c69932324a3eb539509cf0e0ed2d"
          }
        },
        "5ee32d7795f24b8ba012e008d0bea416": {
          "model_module": "@jupyter-widgets/controls",
          "model_module_version": "1.5.0",
          "model_name": "FloatProgressModel",
          "state": {
            "_dom_classes": [],
            "_model_module": "@jupyter-widgets/controls",
            "_model_module_version": "1.5.0",
            "_model_name": "FloatProgressModel",
            "_view_count": null,
            "_view_module": "@jupyter-widgets/controls",
            "_view_module_version": "1.5.0",
            "_view_name": "ProgressView",
            "bar_style": "success",
            "description": "",
            "description_tooltip": null,
            "layout": "IPY_MODEL_aaaaf450d47c45569b55c3a8cbd51c92",
            "max": 19,
            "min": 0,
            "orientation": "horizontal",
            "style": "IPY_MODEL_4b0f8ea742114a239d89152845b3c470",
            "value": 19
          }
        },
        "63bc6d3889374394aaf87a3df51bc710": {
          "model_module": "@jupyter-widgets/controls",
          "model_module_version": "1.5.0",
          "model_name": "HTMLModel",
          "state": {
            "_dom_classes": [],
            "_model_module": "@jupyter-widgets/controls",
            "_model_module_version": "1.5.0",
            "_model_name": "HTMLModel",
            "_view_count": null,
            "_view_module": "@jupyter-widgets/controls",
            "_view_module_version": "1.5.0",
            "_view_name": "HTMLView",
            "description": "",
            "description_tooltip": null,
            "layout": "IPY_MODEL_a363960023ca468995ae242416b02ab7",
            "placeholder": "​",
            "style": "IPY_MODEL_3c9516275dd243a1ab33b5d70b137a26",
            "value": "100%"
          }
        },
        "6564122bc232400c890844784e7d0b52": {
          "model_module": "@jupyter-widgets/controls",
          "model_module_version": "1.5.0",
          "model_name": "HTMLModel",
          "state": {
            "_dom_classes": [],
            "_model_module": "@jupyter-widgets/controls",
            "_model_module_version": "1.5.0",
            "_model_name": "HTMLModel",
            "_view_count": null,
            "_view_module": "@jupyter-widgets/controls",
            "_view_module_version": "1.5.0",
            "_view_name": "HTMLView",
            "description": "",
            "description_tooltip": null,
            "layout": "IPY_MODEL_c827824bd0b64d80ba0bb2018d1b3615",
            "placeholder": "​",
            "style": "IPY_MODEL_12902e591f7a4a9887df70fa1b5f16c0",
            "value": "100%"
          }
        },
        "6a89a206f6aa40abb713259c0e1ea6a5": {
          "model_module": "@jupyter-widgets/base",
          "model_module_version": "1.2.0",
          "model_name": "LayoutModel",
          "state": {
            "_model_module": "@jupyter-widgets/base",
            "_model_module_version": "1.2.0",
            "_model_name": "LayoutModel",
            "_view_count": null,
            "_view_module": "@jupyter-widgets/base",
            "_view_module_version": "1.2.0",
            "_view_name": "LayoutView",
            "align_content": null,
            "align_items": null,
            "align_self": null,
            "border": null,
            "bottom": null,
            "display": null,
            "flex": null,
            "flex_flow": null,
            "grid_area": null,
            "grid_auto_columns": null,
            "grid_auto_flow": null,
            "grid_auto_rows": null,
            "grid_column": null,
            "grid_gap": null,
            "grid_row": null,
            "grid_template_areas": null,
            "grid_template_columns": null,
            "grid_template_rows": null,
            "height": null,
            "justify_content": null,
            "justify_items": null,
            "left": null,
            "margin": null,
            "max_height": null,
            "max_width": null,
            "min_height": null,
            "min_width": null,
            "object_fit": null,
            "object_position": null,
            "order": null,
            "overflow": null,
            "overflow_x": null,
            "overflow_y": null,
            "padding": null,
            "right": null,
            "top": null,
            "visibility": null,
            "width": null
          }
        },
        "6d970c0432044c8eb29ca268909e5785": {
          "model_module": "@jupyter-widgets/controls",
          "model_module_version": "1.5.0",
          "model_name": "DescriptionStyleModel",
          "state": {
            "_model_module": "@jupyter-widgets/controls",
            "_model_module_version": "1.5.0",
            "_model_name": "DescriptionStyleModel",
            "_view_count": null,
            "_view_module": "@jupyter-widgets/base",
            "_view_module_version": "1.2.0",
            "_view_name": "StyleView",
            "description_width": ""
          }
        },
        "7529c18cd2e140eebde1fd5a22baff2b": {
          "model_module": "@jupyter-widgets/controls",
          "model_module_version": "1.5.0",
          "model_name": "DescriptionStyleModel",
          "state": {
            "_model_module": "@jupyter-widgets/controls",
            "_model_module_version": "1.5.0",
            "_model_name": "DescriptionStyleModel",
            "_view_count": null,
            "_view_module": "@jupyter-widgets/base",
            "_view_module_version": "1.2.0",
            "_view_name": "StyleView",
            "description_width": ""
          }
        },
        "7603b37d0c4c40a4a74280fdc6de1e9d": {
          "model_module": "@jupyter-widgets/base",
          "model_module_version": "1.2.0",
          "model_name": "LayoutModel",
          "state": {
            "_model_module": "@jupyter-widgets/base",
            "_model_module_version": "1.2.0",
            "_model_name": "LayoutModel",
            "_view_count": null,
            "_view_module": "@jupyter-widgets/base",
            "_view_module_version": "1.2.0",
            "_view_name": "LayoutView",
            "align_content": null,
            "align_items": null,
            "align_self": null,
            "border": null,
            "bottom": null,
            "display": null,
            "flex": null,
            "flex_flow": null,
            "grid_area": null,
            "grid_auto_columns": null,
            "grid_auto_flow": null,
            "grid_auto_rows": null,
            "grid_column": null,
            "grid_gap": null,
            "grid_row": null,
            "grid_template_areas": null,
            "grid_template_columns": null,
            "grid_template_rows": null,
            "height": null,
            "justify_content": null,
            "justify_items": null,
            "left": null,
            "margin": null,
            "max_height": null,
            "max_width": null,
            "min_height": null,
            "min_width": null,
            "object_fit": null,
            "object_position": null,
            "order": null,
            "overflow": null,
            "overflow_x": null,
            "overflow_y": null,
            "padding": null,
            "right": null,
            "top": null,
            "visibility": null,
            "width": null
          }
        },
        "76da5253cc1946cf9328249952e27c18": {
          "model_module": "@jupyter-widgets/controls",
          "model_module_version": "1.5.0",
          "model_name": "DescriptionStyleModel",
          "state": {
            "_model_module": "@jupyter-widgets/controls",
            "_model_module_version": "1.5.0",
            "_model_name": "DescriptionStyleModel",
            "_view_count": null,
            "_view_module": "@jupyter-widgets/base",
            "_view_module_version": "1.2.0",
            "_view_name": "StyleView",
            "description_width": ""
          }
        },
        "7b012e6fc9574960b9c1d9418a00b70b": {
          "model_module": "@jupyter-widgets/controls",
          "model_module_version": "1.5.0",
          "model_name": "HTMLModel",
          "state": {
            "_dom_classes": [],
            "_model_module": "@jupyter-widgets/controls",
            "_model_module_version": "1.5.0",
            "_model_name": "HTMLModel",
            "_view_count": null,
            "_view_module": "@jupyter-widgets/controls",
            "_view_module_version": "1.5.0",
            "_view_name": "HTMLView",
            "description": "",
            "description_tooltip": null,
            "layout": "IPY_MODEL_08bb0de19f1d47dab3fe4a98b018e091",
            "placeholder": "​",
            "style": "IPY_MODEL_c15aa6f5b012414f85daa9674fcd1b0b",
            "value": " 19/19 [01:07&lt;00:00,  4.22s/it]"
          }
        },
        "7bfabce2c7ab4981a4b1b0a7e25ef465": {
          "model_module": "@jupyter-widgets/controls",
          "model_module_version": "1.5.0",
          "model_name": "HBoxModel",
          "state": {
            "_dom_classes": [],
            "_model_module": "@jupyter-widgets/controls",
            "_model_module_version": "1.5.0",
            "_model_name": "HBoxModel",
            "_view_count": null,
            "_view_module": "@jupyter-widgets/controls",
            "_view_module_version": "1.5.0",
            "_view_name": "HBoxView",
            "box_style": "",
            "children": [
              "IPY_MODEL_a2d797e189e9496c951cac9954c3aacb",
              "IPY_MODEL_0771acc626e4482eab9a48ca436854c3",
              "IPY_MODEL_88473467f2284d1babbf880aad95a4ab"
            ],
            "layout": "IPY_MODEL_c58aa76679044d06935e03ed66e49aa4"
          }
        },
        "7ea308a5f99e47e0a0448a91756f21be": {
          "model_module": "@jupyter-widgets/controls",
          "model_module_version": "1.5.0",
          "model_name": "HTMLModel",
          "state": {
            "_dom_classes": [],
            "_model_module": "@jupyter-widgets/controls",
            "_model_module_version": "1.5.0",
            "_model_name": "HTMLModel",
            "_view_count": null,
            "_view_module": "@jupyter-widgets/controls",
            "_view_module_version": "1.5.0",
            "_view_name": "HTMLView",
            "description": "",
            "description_tooltip": null,
            "layout": "IPY_MODEL_e23721d2d4db4cc5af66c30939efe867",
            "placeholder": "​",
            "style": "IPY_MODEL_76da5253cc1946cf9328249952e27c18",
            "value": " 19/19 [03:28&lt;00:00, 10.10s/it]"
          }
        },
        "88473467f2284d1babbf880aad95a4ab": {
          "model_module": "@jupyter-widgets/controls",
          "model_module_version": "1.5.0",
          "model_name": "HTMLModel",
          "state": {
            "_dom_classes": [],
            "_model_module": "@jupyter-widgets/controls",
            "_model_module_version": "1.5.0",
            "_model_name": "HTMLModel",
            "_view_count": null,
            "_view_module": "@jupyter-widgets/controls",
            "_view_module_version": "1.5.0",
            "_view_name": "HTMLView",
            "description": "",
            "description_tooltip": null,
            "layout": "IPY_MODEL_eadc1dbc54564698b4003aa13dc07c0b",
            "placeholder": "​",
            "style": "IPY_MODEL_7529c18cd2e140eebde1fd5a22baff2b",
            "value": " 5/19 [00:57&lt;02:39, 11.37s/it]"
          }
        },
        "8d24d7075bc04016b3d9c8401adf308e": {
          "model_module": "@jupyter-widgets/controls",
          "model_module_version": "1.5.0",
          "model_name": "DescriptionStyleModel",
          "state": {
            "_model_module": "@jupyter-widgets/controls",
            "_model_module_version": "1.5.0",
            "_model_name": "DescriptionStyleModel",
            "_view_count": null,
            "_view_module": "@jupyter-widgets/base",
            "_view_module_version": "1.2.0",
            "_view_name": "StyleView",
            "description_width": ""
          }
        },
        "93088645d4804832a567177ed735c7bb": {
          "model_module": "@jupyter-widgets/controls",
          "model_module_version": "1.5.0",
          "model_name": "HTMLModel",
          "state": {
            "_dom_classes": [],
            "_model_module": "@jupyter-widgets/controls",
            "_model_module_version": "1.5.0",
            "_model_name": "HTMLModel",
            "_view_count": null,
            "_view_module": "@jupyter-widgets/controls",
            "_view_module_version": "1.5.0",
            "_view_name": "HTMLView",
            "description": "",
            "description_tooltip": null,
            "layout": "IPY_MODEL_034256ed5d11424aba5a3f4f1dcb1a98",
            "placeholder": "​",
            "style": "IPY_MODEL_4eaff0d06550454597fa580dd671b367",
            "value": " 5/10 [13:41&lt;15:19, 183.93s/it]"
          }
        },
        "9e267f4aa1b6497c90471a4dc179a2d0": {
          "model_module": "@jupyter-widgets/controls",
          "model_module_version": "1.5.0",
          "model_name": "ProgressStyleModel",
          "state": {
            "_model_module": "@jupyter-widgets/controls",
            "_model_module_version": "1.5.0",
            "_model_name": "ProgressStyleModel",
            "_view_count": null,
            "_view_module": "@jupyter-widgets/base",
            "_view_module_version": "1.2.0",
            "_view_name": "StyleView",
            "bar_color": null,
            "description_width": ""
          }
        },
        "a2d797e189e9496c951cac9954c3aacb": {
          "model_module": "@jupyter-widgets/controls",
          "model_module_version": "1.5.0",
          "model_name": "HTMLModel",
          "state": {
            "_dom_classes": [],
            "_model_module": "@jupyter-widgets/controls",
            "_model_module_version": "1.5.0",
            "_model_name": "HTMLModel",
            "_view_count": null,
            "_view_module": "@jupyter-widgets/controls",
            "_view_module_version": "1.5.0",
            "_view_name": "HTMLView",
            "description": "",
            "description_tooltip": null,
            "layout": "IPY_MODEL_49628377516c4cf7a6f427dbd5143bb5",
            "placeholder": "​",
            "style": "IPY_MODEL_c1606b20aa684ce89c6c4b7a45ba7543",
            "value": " 26%"
          }
        },
        "a363960023ca468995ae242416b02ab7": {
          "model_module": "@jupyter-widgets/base",
          "model_module_version": "1.2.0",
          "model_name": "LayoutModel",
          "state": {
            "_model_module": "@jupyter-widgets/base",
            "_model_module_version": "1.2.0",
            "_model_name": "LayoutModel",
            "_view_count": null,
            "_view_module": "@jupyter-widgets/base",
            "_view_module_version": "1.2.0",
            "_view_name": "LayoutView",
            "align_content": null,
            "align_items": null,
            "align_self": null,
            "border": null,
            "bottom": null,
            "display": null,
            "flex": null,
            "flex_flow": null,
            "grid_area": null,
            "grid_auto_columns": null,
            "grid_auto_flow": null,
            "grid_auto_rows": null,
            "grid_column": null,
            "grid_gap": null,
            "grid_row": null,
            "grid_template_areas": null,
            "grid_template_columns": null,
            "grid_template_rows": null,
            "height": null,
            "justify_content": null,
            "justify_items": null,
            "left": null,
            "margin": null,
            "max_height": null,
            "max_width": null,
            "min_height": null,
            "min_width": null,
            "object_fit": null,
            "object_position": null,
            "order": null,
            "overflow": null,
            "overflow_x": null,
            "overflow_y": null,
            "padding": null,
            "right": null,
            "top": null,
            "visibility": null,
            "width": null
          }
        },
        "a8f4972e2d4f46baae22d1256c7b1b1c": {
          "model_module": "@jupyter-widgets/base",
          "model_module_version": "1.2.0",
          "model_name": "LayoutModel",
          "state": {
            "_model_module": "@jupyter-widgets/base",
            "_model_module_version": "1.2.0",
            "_model_name": "LayoutModel",
            "_view_count": null,
            "_view_module": "@jupyter-widgets/base",
            "_view_module_version": "1.2.0",
            "_view_name": "LayoutView",
            "align_content": null,
            "align_items": null,
            "align_self": null,
            "border": null,
            "bottom": null,
            "display": null,
            "flex": null,
            "flex_flow": null,
            "grid_area": null,
            "grid_auto_columns": null,
            "grid_auto_flow": null,
            "grid_auto_rows": null,
            "grid_column": null,
            "grid_gap": null,
            "grid_row": null,
            "grid_template_areas": null,
            "grid_template_columns": null,
            "grid_template_rows": null,
            "height": null,
            "justify_content": null,
            "justify_items": null,
            "left": null,
            "margin": null,
            "max_height": null,
            "max_width": null,
            "min_height": null,
            "min_width": null,
            "object_fit": null,
            "object_position": null,
            "order": null,
            "overflow": null,
            "overflow_x": null,
            "overflow_y": null,
            "padding": null,
            "right": null,
            "top": null,
            "visibility": null,
            "width": null
          }
        },
        "aa24af39cc7a4016b945f40d4bc58599": {
          "model_module": "@jupyter-widgets/controls",
          "model_module_version": "1.5.0",
          "model_name": "ProgressStyleModel",
          "state": {
            "_model_module": "@jupyter-widgets/controls",
            "_model_module_version": "1.5.0",
            "_model_name": "ProgressStyleModel",
            "_view_count": null,
            "_view_module": "@jupyter-widgets/base",
            "_view_module_version": "1.2.0",
            "_view_name": "StyleView",
            "bar_color": null,
            "description_width": ""
          }
        },
        "aaaaf450d47c45569b55c3a8cbd51c92": {
          "model_module": "@jupyter-widgets/base",
          "model_module_version": "1.2.0",
          "model_name": "LayoutModel",
          "state": {
            "_model_module": "@jupyter-widgets/base",
            "_model_module_version": "1.2.0",
            "_model_name": "LayoutModel",
            "_view_count": null,
            "_view_module": "@jupyter-widgets/base",
            "_view_module_version": "1.2.0",
            "_view_name": "LayoutView",
            "align_content": null,
            "align_items": null,
            "align_self": null,
            "border": null,
            "bottom": null,
            "display": null,
            "flex": null,
            "flex_flow": null,
            "grid_area": null,
            "grid_auto_columns": null,
            "grid_auto_flow": null,
            "grid_auto_rows": null,
            "grid_column": null,
            "grid_gap": null,
            "grid_row": null,
            "grid_template_areas": null,
            "grid_template_columns": null,
            "grid_template_rows": null,
            "height": null,
            "justify_content": null,
            "justify_items": null,
            "left": null,
            "margin": null,
            "max_height": null,
            "max_width": null,
            "min_height": null,
            "min_width": null,
            "object_fit": null,
            "object_position": null,
            "order": null,
            "overflow": null,
            "overflow_x": null,
            "overflow_y": null,
            "padding": null,
            "right": null,
            "top": null,
            "visibility": null,
            "width": null
          }
        },
        "ac97a1dfba9d451693ae6a84d6e319e9": {
          "model_module": "@jupyter-widgets/controls",
          "model_module_version": "1.5.0",
          "model_name": "HTMLModel",
          "state": {
            "_dom_classes": [],
            "_model_module": "@jupyter-widgets/controls",
            "_model_module_version": "1.5.0",
            "_model_name": "HTMLModel",
            "_view_count": null,
            "_view_module": "@jupyter-widgets/controls",
            "_view_module_version": "1.5.0",
            "_view_name": "HTMLView",
            "description": "",
            "description_tooltip": null,
            "layout": "IPY_MODEL_140d5ff2f4f444d0ac3d5597e317249d",
            "placeholder": "​",
            "style": "IPY_MODEL_e5e83fdad7124a6cacf87aeb545e576a",
            "value": "100%"
          }
        },
        "aca1c69932324a3eb539509cf0e0ed2d": {
          "model_module": "@jupyter-widgets/base",
          "model_module_version": "1.2.0",
          "model_name": "LayoutModel",
          "state": {
            "_model_module": "@jupyter-widgets/base",
            "_model_module_version": "1.2.0",
            "_model_name": "LayoutModel",
            "_view_count": null,
            "_view_module": "@jupyter-widgets/base",
            "_view_module_version": "1.2.0",
            "_view_name": "LayoutView",
            "align_content": null,
            "align_items": null,
            "align_self": null,
            "border": null,
            "bottom": null,
            "display": null,
            "flex": null,
            "flex_flow": null,
            "grid_area": null,
            "grid_auto_columns": null,
            "grid_auto_flow": null,
            "grid_auto_rows": null,
            "grid_column": null,
            "grid_gap": null,
            "grid_row": null,
            "grid_template_areas": null,
            "grid_template_columns": null,
            "grid_template_rows": null,
            "height": null,
            "justify_content": null,
            "justify_items": null,
            "left": null,
            "margin": null,
            "max_height": null,
            "max_width": null,
            "min_height": null,
            "min_width": null,
            "object_fit": null,
            "object_position": null,
            "order": null,
            "overflow": null,
            "overflow_x": null,
            "overflow_y": null,
            "padding": null,
            "right": null,
            "top": null,
            "visibility": null,
            "width": null
          }
        },
        "ae27d424f62343a6802bd7b9c44a61b3": {
          "model_module": "@jupyter-widgets/controls",
          "model_module_version": "1.5.0",
          "model_name": "HTMLModel",
          "state": {
            "_dom_classes": [],
            "_model_module": "@jupyter-widgets/controls",
            "_model_module_version": "1.5.0",
            "_model_name": "HTMLModel",
            "_view_count": null,
            "_view_module": "@jupyter-widgets/controls",
            "_view_module_version": "1.5.0",
            "_view_name": "HTMLView",
            "description": "",
            "description_tooltip": null,
            "layout": "IPY_MODEL_ce676ba408c14bcb802fa5a9f1bb963c",
            "placeholder": "​",
            "style": "IPY_MODEL_0067894ca94942e79030e162570b2e6e",
            "value": "100%"
          }
        },
        "b17a2a0f1619460a88f855fff054ff32": {
          "model_module": "@jupyter-widgets/controls",
          "model_module_version": "1.5.0",
          "model_name": "HBoxModel",
          "state": {
            "_dom_classes": [],
            "_model_module": "@jupyter-widgets/controls",
            "_model_module_version": "1.5.0",
            "_model_name": "HBoxModel",
            "_view_count": null,
            "_view_module": "@jupyter-widgets/controls",
            "_view_module_version": "1.5.0",
            "_view_name": "HBoxView",
            "box_style": "",
            "children": [
              "IPY_MODEL_6564122bc232400c890844784e7d0b52",
              "IPY_MODEL_e59466ce36c54520876d01fa78ec2e95",
              "IPY_MODEL_ed5bb31fb9064cf28898edb6b2a6a9df"
            ],
            "layout": "IPY_MODEL_e51cfa3bc59f45149de1e4be2c3f1e02"
          }
        },
        "b31b2833110549c39d481e5507dca935": {
          "model_module": "@jupyter-widgets/base",
          "model_module_version": "1.2.0",
          "model_name": "LayoutModel",
          "state": {
            "_model_module": "@jupyter-widgets/base",
            "_model_module_version": "1.2.0",
            "_model_name": "LayoutModel",
            "_view_count": null,
            "_view_module": "@jupyter-widgets/base",
            "_view_module_version": "1.2.0",
            "_view_name": "LayoutView",
            "align_content": null,
            "align_items": null,
            "align_self": null,
            "border": null,
            "bottom": null,
            "display": null,
            "flex": null,
            "flex_flow": null,
            "grid_area": null,
            "grid_auto_columns": null,
            "grid_auto_flow": null,
            "grid_auto_rows": null,
            "grid_column": null,
            "grid_gap": null,
            "grid_row": null,
            "grid_template_areas": null,
            "grid_template_columns": null,
            "grid_template_rows": null,
            "height": null,
            "justify_content": null,
            "justify_items": null,
            "left": null,
            "margin": null,
            "max_height": null,
            "max_width": null,
            "min_height": null,
            "min_width": null,
            "object_fit": null,
            "object_position": null,
            "order": null,
            "overflow": null,
            "overflow_x": null,
            "overflow_y": null,
            "padding": null,
            "right": null,
            "top": null,
            "visibility": null,
            "width": null
          }
        },
        "b4b8918b4cc548c5b7b54e25ccdaa076": {
          "model_module": "@jupyter-widgets/controls",
          "model_module_version": "1.5.0",
          "model_name": "ProgressStyleModel",
          "state": {
            "_model_module": "@jupyter-widgets/controls",
            "_model_module_version": "1.5.0",
            "_model_name": "ProgressStyleModel",
            "_view_count": null,
            "_view_module": "@jupyter-widgets/base",
            "_view_module_version": "1.2.0",
            "_view_name": "StyleView",
            "bar_color": null,
            "description_width": ""
          }
        },
        "b763168383914d1ca133ca69506469fb": {
          "model_module": "@jupyter-widgets/controls",
          "model_module_version": "1.5.0",
          "model_name": "HTMLModel",
          "state": {
            "_dom_classes": [],
            "_model_module": "@jupyter-widgets/controls",
            "_model_module_version": "1.5.0",
            "_model_name": "HTMLModel",
            "_view_count": null,
            "_view_module": "@jupyter-widgets/controls",
            "_view_module_version": "1.5.0",
            "_view_name": "HTMLView",
            "description": "",
            "description_tooltip": null,
            "layout": "IPY_MODEL_a8f4972e2d4f46baae22d1256c7b1b1c",
            "placeholder": "​",
            "style": "IPY_MODEL_8d24d7075bc04016b3d9c8401adf308e",
            "value": "100%"
          }
        },
        "c15aa6f5b012414f85daa9674fcd1b0b": {
          "model_module": "@jupyter-widgets/controls",
          "model_module_version": "1.5.0",
          "model_name": "DescriptionStyleModel",
          "state": {
            "_model_module": "@jupyter-widgets/controls",
            "_model_module_version": "1.5.0",
            "_model_name": "DescriptionStyleModel",
            "_view_count": null,
            "_view_module": "@jupyter-widgets/base",
            "_view_module_version": "1.2.0",
            "_view_name": "StyleView",
            "description_width": ""
          }
        },
        "c1606b20aa684ce89c6c4b7a45ba7543": {
          "model_module": "@jupyter-widgets/controls",
          "model_module_version": "1.5.0",
          "model_name": "DescriptionStyleModel",
          "state": {
            "_model_module": "@jupyter-widgets/controls",
            "_model_module_version": "1.5.0",
            "_model_name": "DescriptionStyleModel",
            "_view_count": null,
            "_view_module": "@jupyter-widgets/base",
            "_view_module_version": "1.2.0",
            "_view_name": "StyleView",
            "description_width": ""
          }
        },
        "c2b26272101b45a197faf6e7bbf990ad": {
          "model_module": "@jupyter-widgets/controls",
          "model_module_version": "1.5.0",
          "model_name": "HBoxModel",
          "state": {
            "_dom_classes": [],
            "_model_module": "@jupyter-widgets/controls",
            "_model_module_version": "1.5.0",
            "_model_name": "HBoxModel",
            "_view_count": null,
            "_view_module": "@jupyter-widgets/controls",
            "_view_module_version": "1.5.0",
            "_view_name": "HBoxView",
            "box_style": "",
            "children": [
              "IPY_MODEL_ac97a1dfba9d451693ae6a84d6e319e9",
              "IPY_MODEL_4dba54ece16148b287a09b8abc05a8df",
              "IPY_MODEL_7ea308a5f99e47e0a0448a91756f21be"
            ],
            "layout": "IPY_MODEL_fd6cf9fdda4e4d49b846315a9baef37c"
          }
        },
        "c58aa76679044d06935e03ed66e49aa4": {
          "model_module": "@jupyter-widgets/base",
          "model_module_version": "1.2.0",
          "model_name": "LayoutModel",
          "state": {
            "_model_module": "@jupyter-widgets/base",
            "_model_module_version": "1.2.0",
            "_model_name": "LayoutModel",
            "_view_count": null,
            "_view_module": "@jupyter-widgets/base",
            "_view_module_version": "1.2.0",
            "_view_name": "LayoutView",
            "align_content": null,
            "align_items": null,
            "align_self": null,
            "border": null,
            "bottom": null,
            "display": null,
            "flex": null,
            "flex_flow": null,
            "grid_area": null,
            "grid_auto_columns": null,
            "grid_auto_flow": null,
            "grid_auto_rows": null,
            "grid_column": null,
            "grid_gap": null,
            "grid_row": null,
            "grid_template_areas": null,
            "grid_template_columns": null,
            "grid_template_rows": null,
            "height": null,
            "justify_content": null,
            "justify_items": null,
            "left": null,
            "margin": null,
            "max_height": null,
            "max_width": null,
            "min_height": null,
            "min_width": null,
            "object_fit": null,
            "object_position": null,
            "order": null,
            "overflow": null,
            "overflow_x": null,
            "overflow_y": null,
            "padding": null,
            "right": null,
            "top": null,
            "visibility": null,
            "width": null
          }
        },
        "c827824bd0b64d80ba0bb2018d1b3615": {
          "model_module": "@jupyter-widgets/base",
          "model_module_version": "1.2.0",
          "model_name": "LayoutModel",
          "state": {
            "_model_module": "@jupyter-widgets/base",
            "_model_module_version": "1.2.0",
            "_model_name": "LayoutModel",
            "_view_count": null,
            "_view_module": "@jupyter-widgets/base",
            "_view_module_version": "1.2.0",
            "_view_name": "LayoutView",
            "align_content": null,
            "align_items": null,
            "align_self": null,
            "border": null,
            "bottom": null,
            "display": null,
            "flex": null,
            "flex_flow": null,
            "grid_area": null,
            "grid_auto_columns": null,
            "grid_auto_flow": null,
            "grid_auto_rows": null,
            "grid_column": null,
            "grid_gap": null,
            "grid_row": null,
            "grid_template_areas": null,
            "grid_template_columns": null,
            "grid_template_rows": null,
            "height": null,
            "justify_content": null,
            "justify_items": null,
            "left": null,
            "margin": null,
            "max_height": null,
            "max_width": null,
            "min_height": null,
            "min_width": null,
            "object_fit": null,
            "object_position": null,
            "order": null,
            "overflow": null,
            "overflow_x": null,
            "overflow_y": null,
            "padding": null,
            "right": null,
            "top": null,
            "visibility": null,
            "width": null
          }
        },
        "ce676ba408c14bcb802fa5a9f1bb963c": {
          "model_module": "@jupyter-widgets/base",
          "model_module_version": "1.2.0",
          "model_name": "LayoutModel",
          "state": {
            "_model_module": "@jupyter-widgets/base",
            "_model_module_version": "1.2.0",
            "_model_name": "LayoutModel",
            "_view_count": null,
            "_view_module": "@jupyter-widgets/base",
            "_view_module_version": "1.2.0",
            "_view_name": "LayoutView",
            "align_content": null,
            "align_items": null,
            "align_self": null,
            "border": null,
            "bottom": null,
            "display": null,
            "flex": null,
            "flex_flow": null,
            "grid_area": null,
            "grid_auto_columns": null,
            "grid_auto_flow": null,
            "grid_auto_rows": null,
            "grid_column": null,
            "grid_gap": null,
            "grid_row": null,
            "grid_template_areas": null,
            "grid_template_columns": null,
            "grid_template_rows": null,
            "height": null,
            "justify_content": null,
            "justify_items": null,
            "left": null,
            "margin": null,
            "max_height": null,
            "max_width": null,
            "min_height": null,
            "min_width": null,
            "object_fit": null,
            "object_position": null,
            "order": null,
            "overflow": null,
            "overflow_x": null,
            "overflow_y": null,
            "padding": null,
            "right": null,
            "top": null,
            "visibility": null,
            "width": null
          }
        },
        "d68bff57d7ff42268a0eb177f651f0ec": {
          "model_module": "@jupyter-widgets/controls",
          "model_module_version": "1.5.0",
          "model_name": "HBoxModel",
          "state": {
            "_dom_classes": [],
            "_model_module": "@jupyter-widgets/controls",
            "_model_module_version": "1.5.0",
            "_model_name": "HBoxModel",
            "_view_count": null,
            "_view_module": "@jupyter-widgets/controls",
            "_view_module_version": "1.5.0",
            "_view_name": "HBoxView",
            "box_style": "",
            "children": [
              "IPY_MODEL_b763168383914d1ca133ca69506469fb",
              "IPY_MODEL_5ee32d7795f24b8ba012e008d0bea416",
              "IPY_MODEL_7b012e6fc9574960b9c1d9418a00b70b"
            ],
            "layout": "IPY_MODEL_4d20f29a7e2148bab81ca3b788824cce"
          }
        },
        "e23721d2d4db4cc5af66c30939efe867": {
          "model_module": "@jupyter-widgets/base",
          "model_module_version": "1.2.0",
          "model_name": "LayoutModel",
          "state": {
            "_model_module": "@jupyter-widgets/base",
            "_model_module_version": "1.2.0",
            "_model_name": "LayoutModel",
            "_view_count": null,
            "_view_module": "@jupyter-widgets/base",
            "_view_module_version": "1.2.0",
            "_view_name": "LayoutView",
            "align_content": null,
            "align_items": null,
            "align_self": null,
            "border": null,
            "bottom": null,
            "display": null,
            "flex": null,
            "flex_flow": null,
            "grid_area": null,
            "grid_auto_columns": null,
            "grid_auto_flow": null,
            "grid_auto_rows": null,
            "grid_column": null,
            "grid_gap": null,
            "grid_row": null,
            "grid_template_areas": null,
            "grid_template_columns": null,
            "grid_template_rows": null,
            "height": null,
            "justify_content": null,
            "justify_items": null,
            "left": null,
            "margin": null,
            "max_height": null,
            "max_width": null,
            "min_height": null,
            "min_width": null,
            "object_fit": null,
            "object_position": null,
            "order": null,
            "overflow": null,
            "overflow_x": null,
            "overflow_y": null,
            "padding": null,
            "right": null,
            "top": null,
            "visibility": null,
            "width": null
          }
        },
        "e342264b4d834c4fb34c27068763d49a": {
          "model_module": "@jupyter-widgets/controls",
          "model_module_version": "1.5.0",
          "model_name": "HBoxModel",
          "state": {
            "_dom_classes": [],
            "_model_module": "@jupyter-widgets/controls",
            "_model_module_version": "1.5.0",
            "_model_name": "HBoxModel",
            "_view_count": null,
            "_view_module": "@jupyter-widgets/controls",
            "_view_module_version": "1.5.0",
            "_view_name": "HBoxView",
            "box_style": "",
            "children": [
              "IPY_MODEL_ae27d424f62343a6802bd7b9c44a61b3",
              "IPY_MODEL_192a5780dee64c38823b6fc72956ad43",
              "IPY_MODEL_402b47a3af9f49c4bf87789c9c155d40"
            ],
            "layout": "IPY_MODEL_eeb8c4e6e15740358670c2d951aaa649"
          }
        },
        "e51cfa3bc59f45149de1e4be2c3f1e02": {
          "model_module": "@jupyter-widgets/base",
          "model_module_version": "1.2.0",
          "model_name": "LayoutModel",
          "state": {
            "_model_module": "@jupyter-widgets/base",
            "_model_module_version": "1.2.0",
            "_model_name": "LayoutModel",
            "_view_count": null,
            "_view_module": "@jupyter-widgets/base",
            "_view_module_version": "1.2.0",
            "_view_name": "LayoutView",
            "align_content": null,
            "align_items": null,
            "align_self": null,
            "border": null,
            "bottom": null,
            "display": null,
            "flex": null,
            "flex_flow": null,
            "grid_area": null,
            "grid_auto_columns": null,
            "grid_auto_flow": null,
            "grid_auto_rows": null,
            "grid_column": null,
            "grid_gap": null,
            "grid_row": null,
            "grid_template_areas": null,
            "grid_template_columns": null,
            "grid_template_rows": null,
            "height": null,
            "justify_content": null,
            "justify_items": null,
            "left": null,
            "margin": null,
            "max_height": null,
            "max_width": null,
            "min_height": null,
            "min_width": null,
            "object_fit": null,
            "object_position": null,
            "order": null,
            "overflow": null,
            "overflow_x": null,
            "overflow_y": null,
            "padding": null,
            "right": null,
            "top": null,
            "visibility": null,
            "width": null
          }
        },
        "e5566aed91bc4f6fb968f81232ca7230": {
          "model_module": "@jupyter-widgets/controls",
          "model_module_version": "1.5.0",
          "model_name": "DescriptionStyleModel",
          "state": {
            "_model_module": "@jupyter-widgets/controls",
            "_model_module_version": "1.5.0",
            "_model_name": "DescriptionStyleModel",
            "_view_count": null,
            "_view_module": "@jupyter-widgets/base",
            "_view_module_version": "1.2.0",
            "_view_name": "StyleView",
            "description_width": ""
          }
        },
        "e59466ce36c54520876d01fa78ec2e95": {
          "model_module": "@jupyter-widgets/controls",
          "model_module_version": "1.5.0",
          "model_name": "FloatProgressModel",
          "state": {
            "_dom_classes": [],
            "_model_module": "@jupyter-widgets/controls",
            "_model_module_version": "1.5.0",
            "_model_name": "FloatProgressModel",
            "_view_count": null,
            "_view_module": "@jupyter-widgets/controls",
            "_view_module_version": "1.5.0",
            "_view_name": "ProgressView",
            "bar_style": "success",
            "description": "",
            "description_tooltip": null,
            "layout": "IPY_MODEL_038c2205e58243489c9df565394024c9",
            "max": 19,
            "min": 0,
            "orientation": "horizontal",
            "style": "IPY_MODEL_40e955d21ae54f3d91812ca372f2e104",
            "value": 19
          }
        },
        "e59ce981d6fe4f568845467e77841951": {
          "model_module": "@jupyter-widgets/controls",
          "model_module_version": "1.5.0",
          "model_name": "FloatProgressModel",
          "state": {
            "_dom_classes": [],
            "_model_module": "@jupyter-widgets/controls",
            "_model_module_version": "1.5.0",
            "_model_name": "FloatProgressModel",
            "_view_count": null,
            "_view_module": "@jupyter-widgets/controls",
            "_view_module_version": "1.5.0",
            "_view_name": "ProgressView",
            "bar_style": "success",
            "description": "",
            "description_tooltip": null,
            "layout": "IPY_MODEL_6a89a206f6aa40abb713259c0e1ea6a5",
            "max": 19,
            "min": 0,
            "orientation": "horizontal",
            "style": "IPY_MODEL_e99b8498c0fa4aada16e8c4b2a284dd0",
            "value": 19
          }
        },
        "e5e83fdad7124a6cacf87aeb545e576a": {
          "model_module": "@jupyter-widgets/controls",
          "model_module_version": "1.5.0",
          "model_name": "DescriptionStyleModel",
          "state": {
            "_model_module": "@jupyter-widgets/controls",
            "_model_module_version": "1.5.0",
            "_model_name": "DescriptionStyleModel",
            "_view_count": null,
            "_view_module": "@jupyter-widgets/base",
            "_view_module_version": "1.2.0",
            "_view_name": "StyleView",
            "description_width": ""
          }
        },
        "e855c8d6af29416c8fea613302aa14ca": {
          "model_module": "@jupyter-widgets/base",
          "model_module_version": "1.2.0",
          "model_name": "LayoutModel",
          "state": {
            "_model_module": "@jupyter-widgets/base",
            "_model_module_version": "1.2.0",
            "_model_name": "LayoutModel",
            "_view_count": null,
            "_view_module": "@jupyter-widgets/base",
            "_view_module_version": "1.2.0",
            "_view_name": "LayoutView",
            "align_content": null,
            "align_items": null,
            "align_self": null,
            "border": null,
            "bottom": null,
            "display": null,
            "flex": null,
            "flex_flow": null,
            "grid_area": null,
            "grid_auto_columns": null,
            "grid_auto_flow": null,
            "grid_auto_rows": null,
            "grid_column": null,
            "grid_gap": null,
            "grid_row": null,
            "grid_template_areas": null,
            "grid_template_columns": null,
            "grid_template_rows": null,
            "height": null,
            "justify_content": null,
            "justify_items": null,
            "left": null,
            "margin": null,
            "max_height": null,
            "max_width": null,
            "min_height": null,
            "min_width": null,
            "object_fit": null,
            "object_position": null,
            "order": null,
            "overflow": null,
            "overflow_x": null,
            "overflow_y": null,
            "padding": null,
            "right": null,
            "top": null,
            "visibility": null,
            "width": null
          }
        },
        "e99b8498c0fa4aada16e8c4b2a284dd0": {
          "model_module": "@jupyter-widgets/controls",
          "model_module_version": "1.5.0",
          "model_name": "ProgressStyleModel",
          "state": {
            "_model_module": "@jupyter-widgets/controls",
            "_model_module_version": "1.5.0",
            "_model_name": "ProgressStyleModel",
            "_view_count": null,
            "_view_module": "@jupyter-widgets/base",
            "_view_module_version": "1.2.0",
            "_view_name": "StyleView",
            "bar_color": null,
            "description_width": ""
          }
        },
        "eadc1dbc54564698b4003aa13dc07c0b": {
          "model_module": "@jupyter-widgets/base",
          "model_module_version": "1.2.0",
          "model_name": "LayoutModel",
          "state": {
            "_model_module": "@jupyter-widgets/base",
            "_model_module_version": "1.2.0",
            "_model_name": "LayoutModel",
            "_view_count": null,
            "_view_module": "@jupyter-widgets/base",
            "_view_module_version": "1.2.0",
            "_view_name": "LayoutView",
            "align_content": null,
            "align_items": null,
            "align_self": null,
            "border": null,
            "bottom": null,
            "display": null,
            "flex": null,
            "flex_flow": null,
            "grid_area": null,
            "grid_auto_columns": null,
            "grid_auto_flow": null,
            "grid_auto_rows": null,
            "grid_column": null,
            "grid_gap": null,
            "grid_row": null,
            "grid_template_areas": null,
            "grid_template_columns": null,
            "grid_template_rows": null,
            "height": null,
            "justify_content": null,
            "justify_items": null,
            "left": null,
            "margin": null,
            "max_height": null,
            "max_width": null,
            "min_height": null,
            "min_width": null,
            "object_fit": null,
            "object_position": null,
            "order": null,
            "overflow": null,
            "overflow_x": null,
            "overflow_y": null,
            "padding": null,
            "right": null,
            "top": null,
            "visibility": null,
            "width": null
          }
        },
        "ed5bb31fb9064cf28898edb6b2a6a9df": {
          "model_module": "@jupyter-widgets/controls",
          "model_module_version": "1.5.0",
          "model_name": "HTMLModel",
          "state": {
            "_dom_classes": [],
            "_model_module": "@jupyter-widgets/controls",
            "_model_module_version": "1.5.0",
            "_model_name": "HTMLModel",
            "_view_count": null,
            "_view_module": "@jupyter-widgets/controls",
            "_view_module_version": "1.5.0",
            "_view_name": "HTMLView",
            "description": "",
            "description_tooltip": null,
            "layout": "IPY_MODEL_057921cb7dc148c28e18ea0c895dd607",
            "placeholder": "​",
            "style": "IPY_MODEL_016d2038707a491abd58ea9ebcf7257b",
            "value": " 19/19 [02:35&lt;00:00,  8.40s/it]"
          }
        },
        "eddc9e5f45ce43ad89baffaf578a0645": {
          "model_module": "@jupyter-widgets/base",
          "model_module_version": "1.2.0",
          "model_name": "LayoutModel",
          "state": {
            "_model_module": "@jupyter-widgets/base",
            "_model_module_version": "1.2.0",
            "_model_name": "LayoutModel",
            "_view_count": null,
            "_view_module": "@jupyter-widgets/base",
            "_view_module_version": "1.2.0",
            "_view_name": "LayoutView",
            "align_content": null,
            "align_items": null,
            "align_self": null,
            "border": null,
            "bottom": null,
            "display": null,
            "flex": null,
            "flex_flow": null,
            "grid_area": null,
            "grid_auto_columns": null,
            "grid_auto_flow": null,
            "grid_auto_rows": null,
            "grid_column": null,
            "grid_gap": null,
            "grid_row": null,
            "grid_template_areas": null,
            "grid_template_columns": null,
            "grid_template_rows": null,
            "height": null,
            "justify_content": null,
            "justify_items": null,
            "left": null,
            "margin": null,
            "max_height": null,
            "max_width": null,
            "min_height": null,
            "min_width": null,
            "object_fit": null,
            "object_position": null,
            "order": null,
            "overflow": null,
            "overflow_x": null,
            "overflow_y": null,
            "padding": null,
            "right": null,
            "top": null,
            "visibility": null,
            "width": null
          }
        },
        "eeb8c4e6e15740358670c2d951aaa649": {
          "model_module": "@jupyter-widgets/base",
          "model_module_version": "1.2.0",
          "model_name": "LayoutModel",
          "state": {
            "_model_module": "@jupyter-widgets/base",
            "_model_module_version": "1.2.0",
            "_model_name": "LayoutModel",
            "_view_count": null,
            "_view_module": "@jupyter-widgets/base",
            "_view_module_version": "1.2.0",
            "_view_name": "LayoutView",
            "align_content": null,
            "align_items": null,
            "align_self": null,
            "border": null,
            "bottom": null,
            "display": null,
            "flex": null,
            "flex_flow": null,
            "grid_area": null,
            "grid_auto_columns": null,
            "grid_auto_flow": null,
            "grid_auto_rows": null,
            "grid_column": null,
            "grid_gap": null,
            "grid_row": null,
            "grid_template_areas": null,
            "grid_template_columns": null,
            "grid_template_rows": null,
            "height": null,
            "justify_content": null,
            "justify_items": null,
            "left": null,
            "margin": null,
            "max_height": null,
            "max_width": null,
            "min_height": null,
            "min_width": null,
            "object_fit": null,
            "object_position": null,
            "order": null,
            "overflow": null,
            "overflow_x": null,
            "overflow_y": null,
            "padding": null,
            "right": null,
            "top": null,
            "visibility": null,
            "width": null
          }
        },
        "f98f8e29493b40d7af23e38e8ee3b80e": {
          "model_module": "@jupyter-widgets/base",
          "model_module_version": "1.2.0",
          "model_name": "LayoutModel",
          "state": {
            "_model_module": "@jupyter-widgets/base",
            "_model_module_version": "1.2.0",
            "_model_name": "LayoutModel",
            "_view_count": null,
            "_view_module": "@jupyter-widgets/base",
            "_view_module_version": "1.2.0",
            "_view_name": "LayoutView",
            "align_content": null,
            "align_items": null,
            "align_self": null,
            "border": null,
            "bottom": null,
            "display": null,
            "flex": null,
            "flex_flow": null,
            "grid_area": null,
            "grid_auto_columns": null,
            "grid_auto_flow": null,
            "grid_auto_rows": null,
            "grid_column": null,
            "grid_gap": null,
            "grid_row": null,
            "grid_template_areas": null,
            "grid_template_columns": null,
            "grid_template_rows": null,
            "height": null,
            "justify_content": null,
            "justify_items": null,
            "left": null,
            "margin": null,
            "max_height": null,
            "max_width": null,
            "min_height": null,
            "min_width": null,
            "object_fit": null,
            "object_position": null,
            "order": null,
            "overflow": null,
            "overflow_x": null,
            "overflow_y": null,
            "padding": null,
            "right": null,
            "top": null,
            "visibility": null,
            "width": null
          }
        },
        "fd6cf9fdda4e4d49b846315a9baef37c": {
          "model_module": "@jupyter-widgets/base",
          "model_module_version": "1.2.0",
          "model_name": "LayoutModel",
          "state": {
            "_model_module": "@jupyter-widgets/base",
            "_model_module_version": "1.2.0",
            "_model_name": "LayoutModel",
            "_view_count": null,
            "_view_module": "@jupyter-widgets/base",
            "_view_module_version": "1.2.0",
            "_view_name": "LayoutView",
            "align_content": null,
            "align_items": null,
            "align_self": null,
            "border": null,
            "bottom": null,
            "display": null,
            "flex": null,
            "flex_flow": null,
            "grid_area": null,
            "grid_auto_columns": null,
            "grid_auto_flow": null,
            "grid_auto_rows": null,
            "grid_column": null,
            "grid_gap": null,
            "grid_row": null,
            "grid_template_areas": null,
            "grid_template_columns": null,
            "grid_template_rows": null,
            "height": null,
            "justify_content": null,
            "justify_items": null,
            "left": null,
            "margin": null,
            "max_height": null,
            "max_width": null,
            "min_height": null,
            "min_width": null,
            "object_fit": null,
            "object_position": null,
            "order": null,
            "overflow": null,
            "overflow_x": null,
            "overflow_y": null,
            "padding": null,
            "right": null,
            "top": null,
            "visibility": null,
            "width": null
          }
        },
        "ffafb150deed400f8eff1d5e40f48927": {
          "model_module": "@jupyter-widgets/base",
          "model_module_version": "1.2.0",
          "model_name": "LayoutModel",
          "state": {
            "_model_module": "@jupyter-widgets/base",
            "_model_module_version": "1.2.0",
            "_model_name": "LayoutModel",
            "_view_count": null,
            "_view_module": "@jupyter-widgets/base",
            "_view_module_version": "1.2.0",
            "_view_name": "LayoutView",
            "align_content": null,
            "align_items": null,
            "align_self": null,
            "border": null,
            "bottom": null,
            "display": null,
            "flex": null,
            "flex_flow": null,
            "grid_area": null,
            "grid_auto_columns": null,
            "grid_auto_flow": null,
            "grid_auto_rows": null,
            "grid_column": null,
            "grid_gap": null,
            "grid_row": null,
            "grid_template_areas": null,
            "grid_template_columns": null,
            "grid_template_rows": null,
            "height": null,
            "justify_content": null,
            "justify_items": null,
            "left": null,
            "margin": null,
            "max_height": null,
            "max_width": null,
            "min_height": null,
            "min_width": null,
            "object_fit": null,
            "object_position": null,
            "order": null,
            "overflow": null,
            "overflow_x": null,
            "overflow_y": null,
            "padding": null,
            "right": null,
            "top": null,
            "visibility": null,
            "width": null
          }
        }
      }
    }
  },
  "nbformat": 4,
  "nbformat_minor": 0
}